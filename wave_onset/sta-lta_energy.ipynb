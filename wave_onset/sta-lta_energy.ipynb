{
 "cells": [
  {
   "cell_type": "code",
   "execution_count": 1,
   "metadata": {},
   "outputs": [
    {
     "ename": "ModuleNotFoundError",
     "evalue": "No module named 'plotly'",
     "output_type": "error",
     "traceback": [
      "\u001b[1;31m---------------------------------------------------------------------------\u001b[0m",
      "\u001b[1;31mModuleNotFoundError\u001b[0m                       Traceback (most recent call last)",
      "\u001b[1;32m<ipython-input-1-9df42eb72591>\u001b[0m in \u001b[0;36m<module>\u001b[1;34m\u001b[0m\n\u001b[0;32m      9\u001b[0m \u001b[1;32mfrom\u001b[0m \u001b[0mscipy\u001b[0m \u001b[1;32mimport\u001b[0m \u001b[0msignal\u001b[0m\u001b[1;33m\u001b[0m\u001b[1;33m\u001b[0m\u001b[0m\n\u001b[0;32m     10\u001b[0m \u001b[0mget_ipython\u001b[0m\u001b[1;33m(\u001b[0m\u001b[1;33m)\u001b[0m\u001b[1;33m.\u001b[0m\u001b[0mrun_line_magic\u001b[0m\u001b[1;33m(\u001b[0m\u001b[1;34m'matplotlib'\u001b[0m\u001b[1;33m,\u001b[0m \u001b[1;34m'inline'\u001b[0m\u001b[1;33m)\u001b[0m\u001b[1;33m\u001b[0m\u001b[1;33m\u001b[0m\u001b[0m\n\u001b[1;32m---> 11\u001b[1;33m \u001b[1;32mfrom\u001b[0m \u001b[0mplotly\u001b[0m \u001b[1;32mimport\u001b[0m \u001b[0m__version__\u001b[0m\u001b[1;33m\u001b[0m\u001b[1;33m\u001b[0m\u001b[0m\n\u001b[0m\u001b[0;32m     12\u001b[0m \u001b[1;32mfrom\u001b[0m \u001b[0mstatsmodels\u001b[0m\u001b[1;33m.\u001b[0m\u001b[0mtsa\u001b[0m\u001b[1;33m.\u001b[0m\u001b[0mar_model\u001b[0m \u001b[1;32mimport\u001b[0m \u001b[0mAutoReg\u001b[0m\u001b[1;33m\u001b[0m\u001b[1;33m\u001b[0m\u001b[0m\n\u001b[0;32m     13\u001b[0m \u001b[1;32mimport\u001b[0m \u001b[0mipywidgets\u001b[0m \u001b[1;32mas\u001b[0m \u001b[0mwidgets\u001b[0m\u001b[1;33m\u001b[0m\u001b[1;33m\u001b[0m\u001b[0m\n",
      "\u001b[1;31mModuleNotFoundError\u001b[0m: No module named 'plotly'"
     ]
    }
   ],
   "source": [
    "from scipy.signal import filtfilt\n",
    "from scipy.signal import butter,lfilter\n",
    "from scipy.signal import freqs,freqz\n",
    "import numpy as np\n",
    "from scipy.fft import fft,ifft,fftfreq\n",
    "import pandas as pd\n",
    "import matplotlib.pyplot as plt \n",
    "from scipy.signal import hilbert\n",
    "from scipy import signal\n",
    "%matplotlib inline\n",
    "from plotly import __version__\n",
    "from statsmodels.tsa.ar_model import AutoReg \n",
    "import ipywidgets as widgets\n",
    "from obspy.signal.trigger import recursive_sta_lta,carl_sta_trig,plot_trigger#,trigger_onset\n",
    "from obspy.core.trace import Trace\n",
    "from collections import deque "
   ]
  },
  {
   "cell_type": "code",
   "execution_count": null,
   "metadata": {},
   "outputs": [],
   "source": [
    "def butter_bandpass(lowcut, highcut, fs, order=5):#band pass filter using butter worth method\n",
    "    nyq = 0.5 * fs#nyquist frequency\n",
    "    low = lowcut / nyq \n",
    "    high = highcut / nyq\n",
    "    b, a = butter(order, [low, high], btype='band')#parameters for filters/filter coefficients/coeff of digital transfer fn\n",
    "    return b, a# coefficients of numerator and denomenator polynomial"
   ]
  },
  {
   "cell_type": "code",
   "execution_count": null,
   "metadata": {},
   "outputs": [],
   "source": [
    "def butter_bandpass_filter(data, lowcut, highcut, fs, order=5):#band pass filter using butter worth method\n",
    "    b, a = butter_bandpass(lowcut, highcut, fs, order=order)# coefficients of numerator and denomenator polynomial\n",
    "    y = lfilter(b, a, data)#fir filter\n",
    "    return y#filtered data"
   ]
  },
  {
   "cell_type": "markdown",
   "metadata": {},
   "source": [
    "reading and processing data to make data easier to process"
   ]
  },
  {
   "cell_type": "code",
   "execution_count": null,
   "metadata": {},
   "outputs": [],
   "source": [
    "my_step=pd.read_csv('elcentro.csv')# reading data \n",
    "X=my_step['Acceleration']# accelerometer reading\n",
    "plt.figure(figsize=(10,7))\n",
    "freq,psd=signal.welch(X,50)# spectral density plot using welch method\n",
    "plt.plot(freq,psd,'b.-')#plotting psd using welches method\n",
    "plt.xlabel('frequency')\n",
    "plt.ylabel('power spectral density')\n",
    "#b, a = butter(10, 0.1, btype='low', analog=False)\n",
    "y = butter_bandpass_filter(X,5,7,50,order=10)# band pass filter between 5 and 7 hrtz\n",
    "y=abs(y)# to convert negative data from accelerometer to positive value \n",
    "y_max=np.max(y)# max value recorded by accelerometer\n",
    "y_envelop=np.zeros_like(y)\n",
    "y_envelop_2=np.zeros_like(y)\n",
    "y_envelop[:]=(y[:]/y_max)-(y[:]/y_max)**2# a variable to almost map the original wave but with less ossciliations\n",
    "for i in range(1,len(y)):\n",
    "    y_envelop_2[0]=y_envelop[0]\n",
    "    y_envelop_2[i]=np.max(y_envelop[i-1:i+1])#to reduce the osscilations even further and make the data more uniform \n",
    "y_hilbert=np.imag(hilbert(y_envelop_2))\n",
    "plt.figure(figsize=(10,7))\n",
    "\n",
    "plt.plot(my_step['Time'],y_hilbert)\n",
    "plt.ylabel('processed accelerometer data')\n",
    "plt.xlabel('time')\n"
   ]
  },
  {
   "cell_type": "code",
   "execution_count": null,
   "metadata": {},
   "outputs": [],
   "source": [
    "def trigger_onset(charfct, thres1, thres2, max_len=9e99, max_len_delete=False):   #to determine when the event is triggred and di triggered \n",
    "    ind1 = np.where(charfct > thres1)[0]# for points when magnitude is above thresh 1 \n",
    "    if len(ind1) == 0:\n",
    "        return []\n",
    "    ind2 = np.where(charfct > thres2)[0]# for points when magnitude is above thresh 2\n",
    "    trigger_on = deque([ind1[0]])# for points when magnitude is above thresh 1\n",
    "    trigger_of = deque([-1])\n",
    "    # determine the indices where charfct falls below off-threshold\n",
    "    ind2_ = np.empty_like(ind2, dtype=bool)\n",
    "    ind2_[:-1] = np.diff(ind2) > 1# to give true for points where trigger goes below thresh 2 after the magnitude increases above thresh 1 \n",
    "    # last occurence is missed by the diff, add it manually\n",
    "    ind2_[-1] = True\n",
    "    trigger_of.extend(ind2[ind2_].tolist())# to create an array which stores point where the the event ends \n",
    "    trigger_on.extend(ind1[np.where(np.diff(ind1) > 1)[0] + 1].tolist()) # to create an array which stores the point where the event starts \n",
    "    # include last pick if trigger is on or drop it\n",
    "    if max_len_delete:# in case max_len_delete is true\n",
    "        # drop it\n",
    "        trigger_of.extend([1e99])\n",
    "        trigger_on.extend([on[-1]])\n",
    "    else:\n",
    "        # include it\n",
    "        trigger_of.extend([ind2[-1]])\n",
    "    #\n",
    "    pick = []\n",
    "    while trigger_on[-1] > trigger_of[0]: # some boundry conditions to avoid some conflicts \n",
    "        while  trigger_on[0] <=  trigger_of[0]:\n",
    "               trigger_on.popleft()# for because in case the value of sta/lta is greater than thresh 1 from the get go and can provide false triggers\n",
    "        while  trigger_of[0] <  trigger_on[0]:\n",
    "             trigger_of.popleft() # to remove the cases where the value is greater than thr 2 but not than thr 1 to avoid false triggers\n",
    "        if  trigger_of[0] -  trigger_on[0] > max_len:\n",
    "            if max_len_delete:\n",
    "                trigger_on.popleft()\n",
    "                continue\n",
    "            trigger_of.appendleft( trigger_on[0] + max_len)\n",
    "        pick.append([ trigger_on[0],  trigger_of[0]])\n",
    "    return np.array(pick, dtype=np.int64)"
   ]
  },
  {
   "cell_type": "code",
   "execution_count": null,
   "metadata": {
    "scrolled": true
   },
   "outputs": [],
   "source": [
    "@widgets.interact(sta_time=(1,100,1),lta_time=(5,150,1),thr_on=(0.01,2,0.01),thr_off=(0.01,1,0.01))# just graphical representation of no importance\n",
    "def ratio_sta_lta_calc(sta_time,lta_time,thr_on,thr_off):\n",
    "    ratio_sta_lta=np.zeros(len(y))\n",
    "    sta=0.#short term average \n",
    "    csta=1./sta_time# variable to reduce redudancy in writting the formula \n",
    "    clta=1./lta_time# variable to reduce redudancy in writting the formula \n",
    "    icsta=1-csta# variable to reduce redudancy in writting the formula \n",
    "    iclta=1-clta# variable to reduce redudancy in writting the formula \n",
    "    lta=1e-99# long term average \n",
    "    for i in range(1,len(y_envelop_2)):\n",
    "      y_new=np.sqrt((y_envelop_2[i]**2)+(y_hilbert[i]**2))#value manipulation using hilber method\n",
    "      sta=y_new*csta+icsta*sta\n",
    "      lta=y_new*clta+iclta*lta\n",
    "      if(i<lta_time):\n",
    "            ratio_sta_lta[i]=0\n",
    "      else:\n",
    "             ratio_sta_lta[i]=sta/lta\n",
    "    #plt.figure(figsize=(10,6))\n",
    "    #plt.plot(ratio_sta_lta)\n",
    "    #plt.xlabel('time')\n",
    "    #plt.ylabel('sta/lta')\n",
    "    cft=ratio_sta_lta\n",
    "    trace=Trace(np.array(y_envelop_2))\n",
    "    df = trace.stats.sampling_rate\n",
    "    npts = trace.stats.npts\n",
    "    t = np.arange(npts, dtype=np.float32) / df\n",
    "   # fig = plt.figure(figsize=(10,10))\n",
    "   #ax1 = fig.add_subplot(211)\n",
    "   # ax1.plot(t*0.02,y , 'k')\n",
    "    #ax2 = fig.add_subplot(212, sharex=ax1)\n",
    "    #ax2.plot(t*0.02, cft, 'k')\n",
    "    #ax1.set_xlabel('time')\n",
    "    #ax1.set_ylabel('processed data from accelerometer')\n",
    "    cft1=np.array(cft)\n",
    "    on_off = np.array(trigger_onset(cft1, thr_on, thr_off))\n",
    "    #i, j = ax1.get_ylim()\n",
    "    \n",
    "    #try:\n",
    "     #   ax1.vlines(on_off[:, 0]*0.02 / df, i, j, color='r', lw=2,\n",
    "                  # label=\"Trigger On\")\n",
    "      #  ax1.vlines(on_off[:, 1]*0.02 / df, i, j, color='b', lw=2,\n",
    "                   #label=\"Trigger Off\")\n",
    "       # ax1.legend()\n",
    "    #except IndexError:\n",
    "     #   pass\n",
    "   # ax2.axhline(thr_on, color='red', lw=1, ls='--')\n",
    "    #ax2.axhline(thr_off, color='blue', lw=1, ls='--')\n",
    "    #ax2.set_ylabel('sta/lta')\n",
    "    #ax2.set_xlabel(\"Time after %s [s]\" % trace.stats.starttime.isoformat())\n",
    "    #fig.suptitle(trace.id)\n",
    "    \n",
    "    #fig.canvas.draw()\n",
    "    #plt.show()\n",
    "    #n, bins, patches = plt.hist(ratio_sta_lta, 50, density=True, facecolor='g', alpha=0.75)\n",
    "    even=np.zeros(len(X))\n",
    "    on=on_off[:,0]\n",
    "    off=on_off[:,1]\n",
    "  \n",
    "    for i in range (len(on_off)):\n",
    "        even[on[i]-1:off[i]]=X[on[i]-1:off[i]]\n",
    "    energy=np.zeros(len(on_off))\n",
    "    for j in range(len(on_off)):\n",
    "        freq,psd=signal.welch(even[on[j]-1:off[j]])\n",
    "        for i in range (len(freq)):\n",
    "            energy[j]+=freq[i]*psd[i]**2\n",
    "    print(energy)\n",
    "  "
   ]
  },
  {
   "cell_type": "code",
   "execution_count": null,
   "metadata": {},
   "outputs": [],
   "source": [
    "\n"
   ]
  },
  {
   "cell_type": "code",
   "execution_count": null,
   "metadata": {},
   "outputs": [],
   "source": []
  }
 ],
 "metadata": {
  "kernelspec": {
   "display_name": "Python 3",
   "language": "python",
   "name": "python3"
  },
  "language_info": {
   "codemirror_mode": {
    "name": "ipython",
    "version": 3
   },
   "file_extension": ".py",
   "mimetype": "text/x-python",
   "name": "python",
   "nbconvert_exporter": "python",
   "pygments_lexer": "ipython3",
   "version": "3.7.4"
  }
 },
 "nbformat": 4,
 "nbformat_minor": 5
}
