{
 "cells": [
  {
   "cell_type": "markdown",
   "metadata": {},
   "source": [
    "#### Grey Wolf Optimization\n",
    "\n",
    "The first step to define an optimizer is to define the domain on which the solution is searched. \n",
    "\n",
    "Second step is to define what we call error from optimum value or the loss function or the fitness function based on which solutions are judged. \n",
    "\n",
    "Third step is to generate random solutions from the domain and judge them based on loss function. \n",
    "\n",
    "Next, we update these solutions or solution based on an update expression which is expected to minimize the loss function further. \n",
    "\n",
    "In the present code, the loss function/error defined will be mostly based on the previous code for TDOA. We'll just have to make the form amenable to the algorithm we want to run. \n",
    "\n",
    "For the present solution we would generate some synthetic time of arrivals beforehand and then using that data we'll process it further. The identified domain is a rectangular domain of size 1km * 1km.\n"
   ]
  },
  {
   "cell_type": "code",
   "execution_count": 39,
   "metadata": {},
   "outputs": [],
   "source": [
    "# importing required libraries \n",
    "\n",
    "import numpy as np\n",
    "import matplotlib.pyplot as plt"
   ]
  },
  {
   "cell_type": "code",
   "execution_count": 59,
   "metadata": {},
   "outputs": [],
   "source": [
    "# defining a suitable fitness function\n",
    "\n",
    "def fitness_GWO(pos_matrix,ToA,wave_vel):\n",
    "    '''The function returns the error value for a given position matrix(pos_matrix) consisting of source location as the first element\n",
    "    and the receiver positions as all the rest elements. ToA is a vector of the time of arrival of seismic waves for receivers\n",
    "    Wave_vel is the velocity of waves'''\n",
    "    \n",
    "    n_rec = np.shape(ToA)[0]\n",
    "    TDoA = np.zeros(shape= (n_rec-1)) # created a new variable which will store time difference wrt the first receiver\n",
    "    TDoA[:] = ToA[1:] - ToA[0]\n",
    "    # Now getting the value for time of arrival from the position of source and receivers\n",
    "    ToA_pos = np.zeros_like(ToA)\n",
    "    pos_diff = np.zeros(shape = (np.shape(pos_matrix)[0],np.shape(pos_matrix)[1]-1))  # vector denoting the position of receivers wrt source\n",
    "    pos_diff = pos_matrix[1:] - pos_matrix[0]\n",
    "    ToA_pos[:] = (pos_diff[:,0]**2 + pos_diff[:,1]**2).reshape(2,1)/wave_vel\n",
    "    TDoA_pos = np.zeros_like(TDoA)\n",
    "    TDoA_pos[:] = ToA_pos[1:] - ToA_pos[0]\n",
    "    error_vector = TDoA_pos - TDoA\n",
    "    error = np.dot(error_vector.T,error_vector)\n",
    "    \n",
    "    return error"
   ]
  },
  {
   "cell_type": "code",
   "execution_count": 60,
   "metadata": {},
   "outputs": [],
   "source": [
    "# Now generating the synthetic data for testing\n",
    "wave_vel = 1 # m/s\n",
    "n_rec = 2 # number of receivers\n",
    "rec_pos_actual = np.random.normal(loc=0.0,scale =100,size = (n_rec,2))  # actual position for 2 receivers\n",
    "src_pos_actual = np.array([100,100])\n",
    "t_rec_ideal = np.zeros(shape =(n_rec,1))\n",
    "# calculating the ideal time of arrival\n",
    "t_rec_ideal[0:n_rec] = np.sqrt((rec_pos_actual[0:n_rec,1]-src_pos_actual[1])**2 + (rec_pos_actual[0:n_rec,0]-src_pos_actual[0])**2).reshape(n_rec,1)\n",
    "#introducing noise to account for error in onset detection and sensor\n",
    "noise_t = np.random.normal(loc=0.0,scale =0.2,size = (n_rec,1))\n",
    "t_Rec_real = np.array(t_rec_ideal + noise_t)"
   ]
  },
  {
   "cell_type": "code",
   "execution_count": 61,
   "metadata": {},
   "outputs": [],
   "source": [
    "# Now generating some random solutions for input and intializing number of wolves and their types, alpha, beta and delta are taken to be one each \n",
    "\n",
    "n_wolves = 5\n",
    "initial_pos = -500 + 1000*(np.random.random(size=(n_wolves,n_rec+1,2)))  # in order to make sure that the spread is in entire domain\n"
   ]
  },
  {
   "cell_type": "code",
   "execution_count": 67,
   "metadata": {},
   "outputs": [],
   "source": [
    "alpha_sol = np.zeros(shape=(n_rec+1,2))\n",
    "alpha_fitness = 0.0\n",
    "beta_sol = np.zeros(shape=(n_rec+1,2))\n",
    "beta_fitness = 0.0\n",
    "delta_sol = np.zeros(shape=(n_rec+1,2))\n",
    "delta_fitness = 0.0\n",
    "omega_sol = np.zeros(shape=(n_wolves-3,n_rec+1,2))"
   ]
  },
  {
   "cell_type": "code",
   "execution_count": 71,
   "metadata": {},
   "outputs": [],
   "source": [
    "n_iter = 2 # number of iterations\n",
    "wolves_pos = np.copy(initial_pos)# creating a single vector for positions as update expression will be similar\n",
    "fitness_value = np.zeros(shape= n_wolves)\n",
    "\n",
    "# First intialising the alpha, beta and delta\n",
    "for j in range(n_wolves):\n",
    "    fitness_value[j] = fitness_GWO(wolves_pos[j],t_Rec_real,wave_vel = wave_vel)\n",
    "    \n",
    "alpha_sol = initial_pos[np.where(fitness_value == np.min(fitness_value)),:,:]\n",
    "alpha_fitness = fitness_value[np.where(fitness_value == np.min(fitness_value))]\n",
    "fitness_value[np.where(fitness_value == np.min(fitness_value))] = fitness_value[np.where(fitness_value == np.min(fitness_value))]*30 # won't be minimum now hopefully\n",
    "\n",
    "beta_sol = initial_pos[np.where(fitness_value == np.min(fitness_value)),:,:]\n",
    "beta_fitness = fitness_value[np.where(fitness_value == np.min(fitness_value))]\n",
    "fitness_value[np.where(fitness_value == np.min(fitness_value))] = fitness_value[np.where(fitness_value == np.min(fitness_value))]*30# won't be minimum now hopefully\n",
    "\n",
    "delta_sol = initial_pos[np.where(fitness_value == np.min(fitness_value)),:,:]\n",
    "delta_fitness = fitness_value[np.where(fitness_value == np.min(fitness_value))]\n",
    "fitness_value[np.where(fitness_value == np.min(fitness_value))] = fitness_value[np.where(fitness_value == np.min(fitness_value))]*30 # won't be minimum now hopefully"
   ]
  },
  {
   "cell_type": "code",
   "execution_count": 74,
   "metadata": {},
   "outputs": [
    {
     "data": {
      "text/plain": [
       "array([1.52206142e+10])"
      ]
     },
     "execution_count": 74,
     "metadata": {},
     "output_type": "execute_result"
    }
   ],
   "source": []
  },
  {
   "cell_type": "code",
   "execution_count": null,
   "metadata": {},
   "outputs": [],
   "source": []
  }
 ],
 "metadata": {
  "kernelspec": {
   "display_name": "Python 3",
   "language": "python",
   "name": "python3"
  },
  "language_info": {
   "codemirror_mode": {
    "name": "ipython",
    "version": 3
   },
   "file_extension": ".py",
   "mimetype": "text/x-python",
   "name": "python",
   "nbconvert_exporter": "python",
   "pygments_lexer": "ipython3",
   "version": "3.7.4"
  }
 },
 "nbformat": 4,
 "nbformat_minor": 2
}
