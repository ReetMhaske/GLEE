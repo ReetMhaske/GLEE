{
 "cells": [
  {
   "cell_type": "markdown",
   "metadata": {},
   "source": [
    "#### Grey Wolf Optimization\n",
    "\n",
    "The first step to define an optimizer is to define the domain on which the solution is searched. \n",
    "\n",
    "Second step is to define what we call error from optimum value or the loss function or the fitness function based on which solutions are judged. \n",
    "\n",
    "Third step is to generate random solutions from the domain and judge them based on loss function. \n",
    "\n",
    "Next, we update these solutions or solution based on an update expression which is expected to minimize the loss function further. \n",
    "\n",
    "In the present code, the loss function/error defined will be mostly based on the previous code for TDOA. We'll just have to make the form amenable to the algorithm we want to run. \n",
    "\n",
    "For the present solution we would generate some synthetic time of arrivals beforehand and then using that data we'll process it further. The identified domain is a rectangular domain of size 1km * 1km.\n"
   ]
  },
  {
   "cell_type": "code",
   "execution_count": 1,
   "metadata": {},
   "outputs": [],
   "source": [
    "# importing required libraries \n",
    "\n",
    "import numpy as np\n",
    "import matplotlib.pyplot as plt"
   ]
  },
  {
   "cell_type": "code",
   "execution_count": 2,
   "metadata": {},
   "outputs": [],
   "source": [
    "# defining a suitable fitness function\n",
    "n_rec = 5 # number of receivers\n",
    "def fitness_GWO(pos_matrix,ToA,wave_vel):\n",
    "    '''The function returns the error value for a given position matrix(pos_matrix) consisting of source location as the first element\n",
    "    and the receiver positions as all the rest elements. ToA is a vector of the time of arrival of seismic waves for receivers\n",
    "    Wave_vel is the velocity of waves'''\n",
    "    \n",
    "    n_rec = np.shape(ToA)[0]\n",
    "    TDoA = np.zeros(shape= (n_rec-1)) # created a new variable which will store time difference wrt the first receiver\n",
    "    TDoA[:] = (ToA[1:] - ToA[0]).reshape(n_rec-1)\n",
    "    # Now getting the value for time of arrival from the position of source and receivers\n",
    "    ToA_pos = np.zeros_like(ToA)\n",
    "    pos_diff = np.zeros(shape = (np.shape(pos_matrix)[0],np.shape(pos_matrix)[1]-1))  # vector denoting the position of receivers wrt source\n",
    "    pos_diff = pos_matrix[1:] - pos_matrix[0]\n",
    "    ToA_pos[:] = (np.sqrt(pos_diff[:,0]**2 + pos_diff[:,1]**2)).reshape(n_rec,1)/wave_vel\n",
    "    TDoA_pos = np.zeros_like(TDoA)\n",
    "    TDoA_pos[:] = (ToA_pos[1:] - ToA_pos[0]).reshape(n_rec-1)\n",
    "    error_vector = TDoA_pos - TDoA\n",
    "    error = np.dot(error_vector.T,error_vector)\n",
    "    \n",
    "    return error"
   ]
  },
  {
   "cell_type": "code",
   "execution_count": 3,
   "metadata": {},
   "outputs": [],
   "source": [
    "# Now generating the synthetic data for testing\n",
    "wave_vel = 1 # m/s\n",
    "\n",
    "rec_pos_actual =300 + np.random.normal(loc=0.0,scale =100,size = (n_rec,2))  # actual position for 2 receivers\n",
    "src_pos_actual = np.array([0,0])\n",
    "t_rec_ideal = np.zeros(shape =(n_rec,1))\n",
    "# calculating the ideal time of arrival\n",
    "t_rec_ideal[0:n_rec] = np.sqrt((rec_pos_actual[0:n_rec,1]-src_pos_actual[1])**2 + (rec_pos_actual[0:n_rec,0]-src_pos_actual[0])**2).reshape(n_rec,1)\n",
    "#introducing noise to account for error in onset detection and sensor\n",
    "noise_t = np.random.normal(loc=0.0,scale =0.2,size = (n_rec,1))\n",
    "t_Rec_real = np.array(t_rec_ideal + noise_t)"
   ]
  },
  {
   "cell_type": "code",
   "execution_count": 4,
   "metadata": {},
   "outputs": [],
   "source": [
    "# Now generating some random solutions for input and intializing number of wolves and their types, alpha, beta and delta are taken to be one each \n",
    "\n",
    "n_wolves = 8 # number of wolves \n",
    "initial_pos = 300  + np.random.normal(loc=0.0,scale =100,size = (n_wolves,n_rec+1,2))  # in order to make sure that the spread is in entire domain\n"
   ]
  },
  {
   "cell_type": "code",
   "execution_count": 5,
   "metadata": {},
   "outputs": [],
   "source": [
    "# giving some initial values to alpha, beta and gamma wolves\n",
    "\n",
    "alpha_pos =300 + np.random.normal(loc=0.0,scale =100,size = (n_rec+1,2))\n",
    "alpha_fitness = fitness_GWO(alpha_pos,t_Rec_real,wave_vel = wave_vel)\n",
    "beta_pos = 300  + np.random.normal(loc=0.0,scale =100,size = (n_rec+1,2))\n",
    "beta_fitness = fitness_GWO(alpha_pos,t_Rec_real,wave_vel = wave_vel)\n",
    "delta_pos = 300  + np.random.normal(loc=0.0,scale =100,size = (n_rec+1,2))\n",
    "delta_fitness = fitness_GWO(alpha_pos,t_Rec_real,wave_vel = wave_vel)"
   ]
  },
  {
   "cell_type": "code",
   "execution_count": 6,
   "metadata": {},
   "outputs": [
    {
     "data": {
      "text/plain": [
       "\"fitness_value = np.zeros(shape= n_wolves)\\n\\n# First intialising the alpha, beta and delta\\nfor j in range(n_wolves):\\n    fitness_value[j] = fitness_GWO(wolves_pos[j],t_Rec_real,wave_vel = wave_vel)\\n    \\nalpha_pos[:,:] = initial_pos[np.where(fitness_value == np.min(fitness_value)),:,:]\\nalpha_fitness = fitness_value[np.where(fitness_value == np.min(fitness_value))]\\nfitness_value[np.where(fitness_value == np.min(fitness_value))] = fitness_value[np.where(fitness_value == np.min(fitness_value))]*3000 # won't be minimum now hopefully\\n\\nbeta_pos[:,:] = initial_pos[np.where(fitness_value == np.min(fitness_value)),:,:]\\nbeta_fitness = fitness_value[np.where(fitness_value == np.min(fitness_value))]\\nfitness_value[np.where(fitness_value == np.min(fitness_value))] = fitness_value[np.where(fitness_value == np.min(fitness_value))]*3000# won't be minimum now hopefully\\n\\ndelta_pos[:,:] = initial_pos[np.where(fitness_value == np.min(fitness_value)),:,:]\\ndelta_fitness = fitness_value[np.where(fitness_value == np.min(fitness_value))]\\nfitness_value[np.where(fitness_value == np.min(fitness_value))] = fitness_value[np.where(fitness_value == np.min(fitness_value))]*3000 # won't be minimum now hopefully\""
      ]
     },
     "execution_count": 6,
     "metadata": {},
     "output_type": "execute_result"
    }
   ],
   "source": [
    "n_iter = 100 # number of iterations\n",
    "wolves_pos = np.copy(initial_pos)# creating a single vector for positions as update expression will be similar\n",
    "'''fitness_value = np.zeros(shape= n_wolves)\n",
    "\n",
    "# First intialising the alpha, beta and delta\n",
    "for j in range(n_wolves):\n",
    "    fitness_value[j] = fitness_GWO(wolves_pos[j],t_Rec_real,wave_vel = wave_vel)\n",
    "    \n",
    "alpha_pos[:,:] = initial_pos[np.where(fitness_value == np.min(fitness_value)),:,:]\n",
    "alpha_fitness = fitness_value[np.where(fitness_value == np.min(fitness_value))]\n",
    "fitness_value[np.where(fitness_value == np.min(fitness_value))] = fitness_value[np.where(fitness_value == np.min(fitness_value))]*3000 # won't be minimum now hopefully\n",
    "\n",
    "beta_pos[:,:] = initial_pos[np.where(fitness_value == np.min(fitness_value)),:,:]\n",
    "beta_fitness = fitness_value[np.where(fitness_value == np.min(fitness_value))]\n",
    "fitness_value[np.where(fitness_value == np.min(fitness_value))] = fitness_value[np.where(fitness_value == np.min(fitness_value))]*3000# won't be minimum now hopefully\n",
    "\n",
    "delta_pos[:,:] = initial_pos[np.where(fitness_value == np.min(fitness_value)),:,:]\n",
    "delta_fitness = fitness_value[np.where(fitness_value == np.min(fitness_value))]\n",
    "fitness_value[np.where(fitness_value == np.min(fitness_value))] = fitness_value[np.where(fitness_value == np.min(fitness_value))]*3000 # won't be minimum now hopefully'''"
   ]
  },
  {
   "cell_type": "code",
   "execution_count": 7,
   "metadata": {},
   "outputs": [],
   "source": [
    "# After this initial assigning of hierarchy, let's create the update expression\n",
    "# Note: The first assigned hierarchy is just to ensure that the variables are not blank. This might be removed in revision\n",
    "\n",
    "a = 2  \n",
    "fitness_value = np.zeros(shape= n_wolves)\n",
    "\n",
    "for i in range(n_iter):\n",
    "    for j in range(n_wolves):\n",
    "        fitness_value[j] = fitness_GWO(wolves_pos[j],t_Rec_real,wave_vel = wave_vel)\n",
    "        if fitness_value[j] <= alpha_fitness:\n",
    "            delta_fitness = beta_fitness\n",
    "            delta_pos = np.copy(beta_pos)\n",
    "            beta_fitness = alpha_fitness\n",
    "            beta_pos = np.copy(alpha_pos)\n",
    "            alpha_fitness = fitness_value[j]\n",
    "            alpha_pos = np.copy(wolves_pos[j])\n",
    "            \n",
    "        elif fitness_value[j] <= beta_fitness and fitness_value[j] >= alpha_fitness:\n",
    "            delta_fitness = beta_fitness\n",
    "            delta_pos = np.copy(beta_pos)\n",
    "            beta_fitness = fitness_value[j]\n",
    "            beta_pos = np.copy(wolves_pos[j])\n",
    "            \n",
    "        elif fitness_value[j] <= delta_fitness and fitness_value[j] >= beta_fitness:\n",
    "            delta_fitness = fitness_value[j]\n",
    "            delta_pos = np.copy(wolves_pos[j])\n",
    "    \n",
    "    #Now that hierarchy is assigned let's update the positions\n",
    "    \n",
    "    a= a - 2/n_iter\n",
    "    \n",
    "    for j in range(n_wolves):\n",
    "        r1 = np.random.random(size=(np.shape(alpha_pos)))*50\n",
    "        r2 = np.random.random(size=(np.shape(alpha_pos)))*50\n",
    "        A1 = 2*a*r1 - a\n",
    "        C1 =2*r2\n",
    "    \n",
    "        D_alpha = abs(C1 * alpha_pos - wolves_pos[j])  # distance from the alpha wolf\n",
    "        X1 = alpha_pos - A1 * D_alpha\n",
    "\n",
    "        r1 = np.random.random(size=(np.shape(alpha_pos)))*50\n",
    "        r2 = np.random.random(size=(np.shape(alpha_pos)))*50\n",
    "        A2 = 2*a*r1 - r2\n",
    "        C2 =2*r2\n",
    "    \n",
    "        D_beta =abs(C2 * beta_pos - wolves_pos[j])\n",
    "        # Equation (3.5)-part 2\n",
    "        X2 = beta_pos - A2 * D_beta\n",
    "    \n",
    "        r1 = np.random.random(size=(np.shape(alpha_pos)))*50\n",
    "        r2 = np.random.random(size=(np.shape(alpha_pos)))*50\n",
    "        A3 = 2*a*r1 - a\n",
    "        C3 =2*r2\n",
    "        D_delta = abs(C3 * delta_pos- wolves_pos[j])\n",
    "        X3 = delta_pos - A3*D_delta\n",
    "        \n",
    "        wolves_pos[j] = (X1+X2+X3)/3\n",
    "    \n",
    "    \n",
    "    \n",
    "            \n",
    "        "
   ]
  },
  {
   "cell_type": "code",
   "execution_count": 10,
   "metadata": {},
   "outputs": [
    {
     "data": {
      "text/plain": [
       "(-500.0, 500.0)"
      ]
     },
     "execution_count": 10,
     "metadata": {},
     "output_type": "execute_result"
    },
    {
     "data": {
      "image/png": "[encoded data removed]",
      "text/plain": [
       "<Figure size 576x432 with 1 Axes>"
      ]
     },
     "metadata": {
      "needs_background": "light"
     },
     "output_type": "display_data"
    }
   ],
   "source": [
    "# Examining the results via plot\n",
    "plt.figure(figsize=(8,6))\n",
    "#plt.plot(rec_pos_actual[:,0],rec_pos_actual[:,1],'b.',label='Receivers actual position')\n",
    "plt.plot(src_pos_actual[0],src_pos_actual[1],'r.',label='Source actual position')\n",
    "#plt.plot(alpha_pos[1:,0],alpha_pos[1:,1],'g.',label='Receivers estimated position')\n",
    "plt.plot(alpha_pos[0,0],alpha_pos[0,1],'k.',label='Source estimated position')\n",
    "plt.plot(initial_pos[0,0,0],initial_pos[0,0,1],'b.',label='Source guessed position')\n",
    "\n",
    "plt.legend()\n",
    "plt.xlim(-500,500)\n",
    "plt.ylim(-500,500)"
   ]
  },
  {
   "cell_type": "code",
   "execution_count": 11,
   "metadata": {},
   "outputs": [
    {
     "data": {
      "text/plain": [
       "(-500.0, 500.0)"
      ]
     },
     "execution_count": 11,
     "metadata": {},
     "output_type": "execute_result"
    },
    {
     "data": {
      "image/png": "[encoded data removed]",
      "text/plain": [
       "<Figure size 576x432 with 1 Axes>"
      ]
     },
     "metadata": {
      "needs_background": "light"
     },
     "output_type": "display_data"
    }
   ],
   "source": [
    "plt.figure(figsize=(8,6))\n",
    "plt.plot(rec_pos_actual[:,0],rec_pos_actual[:,1],'b.',label='Receivers actual position')\n",
    "#plt.plot(initial_pos[0,1:,0],initial_pos[0,1:,1],'k.',label='REceivers guessed position')\n",
    "plt.plot(alpha_pos[1:,0],alpha_pos[1:,1],'g.',label='Receivers estimated position')\n",
    "\n",
    "\n",
    "plt.legend()\n",
    "plt.xlim(-500,500)\n",
    "plt.ylim(-500,500)"
   ]
  },
  {
   "cell_type": "code",
   "execution_count": null,
   "metadata": {},
   "outputs": [],
   "source": []
  },
  {
   "cell_type": "code",
   "execution_count": null,
   "metadata": {},
   "outputs": [],
   "source": []
  }
 ],
 "metadata": {
  "kernelspec": {
   "display_name": "Python 3",
   "language": "python",
   "name": "python3"
  },
  "language_info": {
   "codemirror_mode": {
    "name": "ipython",
    "version": 3
   },
   "file_extension": ".py",
   "mimetype": "text/x-python",
   "name": "python",
   "nbconvert_exporter": "python",
   "pygments_lexer": "ipython3",
   "version": "3.7.4"
  }
 },
 "nbformat": 4,
 "nbformat_minor": 2
}
