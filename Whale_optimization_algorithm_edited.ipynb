{
 "cells": [
  {
   "cell_type": "markdown",
   "metadata": {},
   "source": [
    "Whale optimization algorithm is a meta heuristic algorithm similar to grey wolf optimization. However, instead of a complete hierarchy, there is only a leader present, alll other search agents update their positions based on the position of leader. There is a continuous switching between exploration and exploitation. \n",
    "\n",
    "Here the fitness function is borrowed from Grey wolf optimization. "
   ]
  },
  {
   "cell_type": "code",
   "execution_count": 1,
   "metadata": {},
   "outputs": [],
   "source": [
    "# importing required libraries \n",
    "import numpy as np \n",
    "import matplotlib.pyplot as plt"
   ]
  },
  {
   "cell_type": "code",
   "execution_count": 2,
   "metadata": {},
   "outputs": [],
   "source": [
    "# defining a suitable fitness function\n",
    "n_rec = 51 # number of receivers\n",
    "def fitness(pos_matrix,ToA,wave_vel):\n",
    "    '''The function returns the error value for a given position matrix(pos_matrix) consisting of source location as the first element\n",
    "    and the receiver positions as all the rest elements. ToA is a vector of the time of arrival of seismic waves for receivers\n",
    "    Wave_vel is the velocity of waves'''\n",
    "    \n",
    "    n_rec = np.shape(ToA)[0]\n",
    "    TDoA = np.zeros(shape= (n_rec-1)) # created a new variable which will store time difference wrt the first receiver\n",
    "    TDoA[:] = (ToA[1:] - ToA[0]).reshape(n_rec-1)\n",
    "    # Now getting the value for time of arrival from the position of source and receivers\n",
    "    ToA_pos = np.zeros_like(ToA)\n",
    "    pos_diff = np.zeros(shape = (np.shape(pos_matrix)[0]))  # vector denoting the position of receivers wrt source\n",
    "    pos_diff = pos_matrix[1:] - pos_matrix[0]\n",
    "    ToA_pos[:] = (np.sqrt(pos_diff[1::2]**2 + \\\n",
    "                          pos_diff[1::2]**2)).reshape(n_rec,1)/wave_vel\n",
    "    TDoA_pos = np.zeros_like(TDoA)\n",
    "    TDoA_pos[:] = (ToA_pos[1:] - ToA_pos[0]).reshape(n_rec-1)\n",
    "    error_vector = TDoA_pos - TDoA\n",
    "    error = np.dot(error_vector.T,error_vector)\n",
    "    \n",
    "    return error"
   ]
  },
  {
   "cell_type": "code",
   "execution_count": 3,
   "metadata": {},
   "outputs": [],
   "source": [
    "# Now generating the synthetic data for testing\n",
    "wave_vel = 1 # m/s\n",
    "\n",
    "rec_pos_actual =300 + np.random.normal(loc=0.0,scale =50,size = (n_rec,2))  # actual position for 2 receivers\n",
    "src_pos_actual = np.array([0,0])\n",
    "t_rec_ideal = np.zeros(shape =(n_rec,1))\n",
    "# calculating the ideal time of arrival\n",
    "t_rec_ideal[0:n_rec] = np.sqrt((rec_pos_actual[0:n_rec,1]-src_pos_actual[1])**2 + (rec_pos_actual[0:n_rec,0]-src_pos_actual[0])**2).reshape(n_rec,1)\n",
    "#introducing noise to account for error in onset detection and sensor\n",
    "noise_t = np.random.normal(loc=0.0,scale =0.2,size = (n_rec,1))\n",
    "t_Rec_real = np.array(t_rec_ideal + noise_t)"
   ]
  },
  {
   "cell_type": "code",
   "execution_count": 4,
   "metadata": {},
   "outputs": [],
   "source": [
    "# Now generating some random solutions for input and intializing number of wolves and their types, alpha, beta and delta are taken to be one each \n",
    "\n",
    "n_whales = 15 # number of wolves \n",
    "initial_pos = 300  + np.random.normal(loc=0.0,scale =50,size = (n_whales,(n_rec+1)*2))  # in order to make sure that the spread is in entire domain"
   ]
  },
  {
   "cell_type": "code",
   "execution_count": null,
   "metadata": {},
   "outputs": [],
   "source": []
  },
  {
   "cell_type": "code",
   "execution_count": 5,
   "metadata": {},
   "outputs": [],
   "source": [
    "n_iter = 50000 # number of iterations"
   ]
  },
  {
   "cell_type": "code",
   "execution_count": 6,
   "metadata": {},
   "outputs": [],
   "source": [
    "def Whale_optimization(n_iter,n_whales,initial_pos,t_Rec_real):\n",
    "    '''The function returns the optimzed location for leader in the search space according to Whale Optimization algorithm.\n",
    "    n_iter = number of iterations\n",
    "    n_whales = number of whales\n",
    "    initial_pos = initial position of all whales'''\n",
    "    \n",
    "    TOA_min = np.min(t_Rec_real)\n",
    "    TOA_max = np.max(t_Rec_real)\n",
    "    TOA_avg = np.mean(t_Rec_real)\n",
    "    whales_pos = np.copy(initial_pos)\n",
    "    fitness_array =np.zeros(n_iter)\n",
    "    \n",
    "    fitness_value = np.zeros(n_whales)\n",
    "    \n",
    "    # Assigning the position and fitness for leader\n",
    "    \n",
    "    leader_fitness = fitness_value[0]\n",
    "    leader_pos = np.copy(whales_pos[0]) \n",
    "    \n",
    "    for i in range(n_iter):\n",
    "        fitness_array[i] = leader_fitness\n",
    "        for j in range(n_whales):\n",
    "            fitness_value[j] = fitness(whales_pos[j],t_Rec_real,wave_vel = wave_vel)\n",
    "            if fitness_value[j] <= leader_fitness:\n",
    "                leader_fitness = fitness_value\n",
    "                leader_pos = np.copy(whales_pos[j]) \n",
    "        # Now updating the position\n",
    "        \n",
    "        # Defining parameters for updating positions\n",
    "        a =  2 - i*2/n_iter\n",
    "        a2 = -1 + i*(-1/n_iter)\n",
    "        for j in range(n_whales):\n",
    "            r1 = np.random.random(size=(np.shape(leader_pos)))\n",
    "            r2 = np.random.random(size=(np.shape(leader_pos)))\n",
    "            A = 2*a*r1 - a\n",
    "            C =2*r2\n",
    "            b = 1\n",
    "            l = (a2-1)*np.random.random() + 1\n",
    "            p = np.random.random()\n",
    "            \n",
    "            if p < 0.5:\n",
    "                for k in range(np.size(leader_pos)):\n",
    "                    if abs(A[k]) > 1:\n",
    "                        temp_leader = np.random.randint(low=0,high=n_whales,size=1)\n",
    "                        temp_leader_pos = whales_pos[temp_leader,k]\n",
    "                        D_leader_temp = abs(C*temp_leader_pos- whales_pos[j,k])  \n",
    "                        whales_pos[j,k] = leader_pos[k] - A[k] * whales_pos[j,k]\n",
    "                    elif abs(A[k]) < 1:\n",
    "                        D_leader = abs(C*leader_pos[k] - whales_pos[j,k])  \n",
    "                        whales_pos[j,k] = leader_pos[k] - A[k] * whales_pos[j,k]\n",
    "                        \n",
    "                        \n",
    "            \n",
    "            elif p > 0.5:\n",
    "                for k in range(np.size(leader_pos)):\n",
    "                    Dist_leader = abs(leader_pos[k] - whales_pos[j,k])\n",
    "                    whales_pos[j,k] = Dist_leader*np.exp(b*k)*np.cos(2*np.pi*l) + whales_pos[j,k]\n",
    "                \n",
    "                \n",
    "                    if whales_pos[j,k] > 350 or whales_pos[j,k] <250 :# currently specific, will need to generalize\n",
    "                        whales_pos[j,k] = 250 + 100*np.random.random()\n",
    "                \n",
    "                \n",
    "    return leader_pos,fitness_array\n",
    "        "
   ]
  },
  {
   "cell_type": "code",
   "execution_count": 7,
   "metadata": {},
   "outputs": [],
   "source": [
    "optimized_pos, fitness_array = Whale_optimization(n_iter=n_iter,n_whales =n_whales,initial_pos = initial_pos,t_Rec_real=t_Rec_real)"
   ]
  },
  {
   "cell_type": "code",
   "execution_count": 8,
   "metadata": {},
   "outputs": [
    {
     "data": {
      "image/png": "[encoded data removed]",
      "text/plain": [
       "<Figure size 432x288 with 1 Axes>"
      ]
     },
     "metadata": {
      "needs_background": "light"
     },
     "output_type": "display_data"
    }
   ],
   "source": [
    "import matplotlib.pyplot as plt\n",
    "index_of_iteration= list( range(0,n_iter))\n",
    "plt.plot(index_of_iteration,fitness_array)\n",
    "plt.xlabel(\"no. of iteration\")\n",
    "plt.ylabel(\"fitness\")\n",
    "plt.title(\"fitness as a variable of iterations\")\n",
    "plt.show()\n"
   ]
  },
  {
   "cell_type": "code",
   "execution_count": null,
   "metadata": {},
   "outputs": [],
   "source": []
  }
 ],
 "metadata": {
  "kernelspec": {
   "display_name": "Python 3",
   "language": "python",
   "name": "python3"
  },
  "language_info": {
   "codemirror_mode": {
    "name": "ipython",
    "version": 3
   },
   "file_extension": ".py",
   "mimetype": "text/x-python",
   "name": "python",
   "nbconvert_exporter": "python",
   "pygments_lexer": "ipython3",
   "version": "3.8.10"
  }
 },
 "nbformat": 4,
 "nbformat_minor": 2
}
