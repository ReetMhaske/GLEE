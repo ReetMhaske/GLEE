{
 "cells": [
  {
   "cell_type": "markdown",
   "id": "096254bd",
   "metadata": {},
   "source": [
    "imported all the libraries needed for the process"
   ]
  },
  {
   "cell_type": "code",
   "execution_count": 1,
   "id": "8fdebac9",
   "metadata": {},
   "outputs": [
    {
     "data": {
      "text/html": [
       "        <script type=\"text/javascript\">\n",
       "        window.PlotlyConfig = {MathJaxConfig: 'local'};\n",
       "        if (window.MathJax) {MathJax.Hub.Config({SVG: {font: \"STIX-Web\"}});}\n",
       "        if (typeof require !== 'undefined') {\n",
       "        require.undef(\"plotly\");\n",
       "        requirejs.config({\n",
       "            paths: {\n",
       "                'plotly': ['https://cdn.plot.ly/plotly-latest.min']\n",
       "            }\n",
       "        });\n",
       "        require(['plotly'], function(Plotly) {\n",
       "            window._Plotly = Plotly;\n",
       "        });\n",
       "        }\n",
       "        </script>\n",
       "        "
      ]
     },
     "metadata": {},
     "output_type": "display_data"
    },
    {
     "data": {
      "text/html": [
       "        <script type=\"text/javascript\">\n",
       "        window.PlotlyConfig = {MathJaxConfig: 'local'};\n",
       "        if (window.MathJax) {MathJax.Hub.Config({SVG: {font: \"STIX-Web\"}});}\n",
       "        if (typeof require !== 'undefined') {\n",
       "        require.undef(\"plotly\");\n",
       "        requirejs.config({\n",
       "            paths: {\n",
       "                'plotly': ['https://cdn.plot.ly/plotly-latest.min']\n",
       "            }\n",
       "        });\n",
       "        require(['plotly'], function(Plotly) {\n",
       "            window._Plotly = Plotly;\n",
       "        });\n",
       "        }\n",
       "        </script>\n",
       "        "
      ]
     },
     "metadata": {},
     "output_type": "display_data"
    }
   ],
   "source": [
    "from scipy.signal import filtfilt\n",
    "from scipy.signal import butter,lfilter\n",
    "from scipy.signal import freqs,freqz\n",
    "import numpy as np\n",
    "from scipy.fft import fft,ifft,fftfreq\n",
    "import pandas as pd\n",
    "import matplotlib.pyplot as plt \n",
    "\n",
    "from scipy import signal\n",
    "%matplotlib inline\n",
    "from plotly import __version__\n",
    "from plotly.offline import download_plotlyjs, init_notebook_mode, plot, iplot\n",
    "import cufflinks as cf\n",
    "init_notebook_mode(connected=True)\n",
    "cf.go_offline()\n",
    "import ipywidgets as widgets"
   ]
  },
  {
   "cell_type": "markdown",
   "id": "15fff121",
   "metadata": {},
   "source": [
    "    define a function that returns filter coefficients \n"
   ]
  },
  {
   "cell_type": "code",
   "execution_count": 2,
   "id": "eabdf0b8",
   "metadata": {},
   "outputs": [],
   "source": [
    "def butter_lowpass(cutoff, fs, order=5):\n",
    "    nyq = 0.5 * fs\n",
    "    normal_cutoff = cutoff / nyq\n",
    "    b, a = butter(order, normal_cutoff, btype='low', analog=False)#parameters for filters/filter coefficients/coeff of digital transfer fn\n",
    "    return b, a"
   ]
  },
  {
   "cell_type": "markdown",
   "id": "5c803939",
   "metadata": {},
   "source": [
    "    cutoff- cutoff freq at which the signal strength has detoriated by 3db\n",
    "    nyq = nyquist frequency\n",
    "    b,a = filter coeff"
   ]
  },
  {
   "cell_type": "markdown",
   "id": "90b78718",
   "metadata": {},
   "source": [
    "    defining a function for filtering the data"
   ]
  },
  {
   "cell_type": "code",
   "execution_count": 3,
   "id": "8f7347f6",
   "metadata": {},
   "outputs": [],
   "source": [
    "def butter_lowpass_filter(data, cutoff, fs, order=5):\n",
    "    b, a = butter_lowpass(cutoff, fs, order=order)\n",
    "    y = lfilter(b, a, data)#fir filter\n",
    "    return y"
   ]
  },
  {
   "cell_type": "markdown",
   "id": "561b8380",
   "metadata": {},
   "source": [
    "    b,a = filter coeff\n",
    "    y=filtered data \n"
   ]
  },
  {
   "cell_type": "markdown",
   "id": "062072a6",
   "metadata": {},
   "source": [
    "    define a function that returns filter coefficients "
   ]
  },
  {
   "cell_type": "code",
   "execution_count": 4,
   "id": "8da86001",
   "metadata": {},
   "outputs": [],
   "source": [
    "def butter_bandpass(lowcut, highcut, fs, order=5):\n",
    "    nyq = 0.5 * fs\n",
    "    low = lowcut / nyq\n",
    "    high = highcut / nyq\n",
    "    b, a = butter(order, [low, high], btype='band')#parameters for filters/filter coefficients/coeff of digital transfer fn\n",
    "    return b, a"
   ]
  },
  {
   "cell_type": "markdown",
   "id": "b637583e",
   "metadata": {},
   "source": [
    "    cutoff- cutoff freq at which the signal strength has detoriated by 3db\n",
    "    nyq = nyquist frequency\n",
    "    b,a = filter coeff"
   ]
  },
  {
   "cell_type": "markdown",
   "id": "012d6104",
   "metadata": {},
   "source": [
    "    defining a function for filtering the data"
   ]
  },
  {
   "cell_type": "code",
   "execution_count": 5,
   "id": "a35471dd",
   "metadata": {},
   "outputs": [],
   "source": [
    "def butter_bandpass_filter(data, lowcut, highcut, fs, order=5):\n",
    "    b, a = butter_bandpass(lowcut, highcut, fs, order=order)\n",
    "    y = lfilter(b, a, data)#fir filter\n",
    "    return y"
   ]
  },
  {
   "cell_type": "markdown",
   "id": "f3607c97",
   "metadata": {},
   "source": [
    "    b,a = filter coeff\n",
    "    y=filtered data \n"
   ]
  },
  {
   "cell_type": "markdown",
   "id": "953f4907",
   "metadata": {},
   "source": [
    "    b,a = filter coeff\n",
    "    y=filtered data \n"
   ]
  },
  {
   "cell_type": "markdown",
   "id": "7a680723",
   "metadata": {},
   "source": [
    "    define a function that returns filter coefficients "
   ]
  },
  {
   "cell_type": "code",
   "execution_count": 6,
   "id": "948b3680",
   "metadata": {},
   "outputs": [],
   "source": [
    "def butter_highpass(cutoff, fs, order=5):\n",
    "    nyq = 0.5 * fs #half of cutoff frequency\n",
    "    normal_cutoff = cutoff / nyq\n",
    "    b, a = butter(order, normal_cutoff, btype='high', analog=False)#parameters for filters/filter coefficients/coeff of digital transfer fn\n",
    "    return b, a\n"
   ]
  },
  {
   "cell_type": "markdown",
   "id": "e38bf13e",
   "metadata": {},
   "source": [
    "    cutoff- cutoff freq at which the signal strength has detoriated by 3db\n",
    "    nyq = nyquist frequency\n",
    "    b,a = filter coeff"
   ]
  },
  {
   "cell_type": "markdown",
   "id": "91bce86d",
   "metadata": {},
   "source": [
    "    defining a function for filtering the data"
   ]
  },
  {
   "cell_type": "code",
   "execution_count": 7,
   "id": "e4ffddc0",
   "metadata": {},
   "outputs": [],
   "source": [
    "def butter_highpass_filter(data, cutoff, fs, order=5):\n",
    "    b, a = butter_highpass(cutoff, fs, order=order) \n",
    "    y = lfilter(b, a, data)#fir filter\n",
    "    return y"
   ]
  },
  {
   "cell_type": "markdown",
   "id": "542ccedb",
   "metadata": {},
   "source": [
    "    cutoff- cutoff freq at which the signal strength has detoriated by 3db\n",
    "    nyq = nyquist frequency\n",
    "    b,a = filter coeff"
   ]
  },
  {
   "cell_type": "markdown",
   "id": "b16e8030",
   "metadata": {},
   "source": [
    "    b,a = filter coeff\n",
    "    y=filtered data \n"
   ]
  },
  {
   "cell_type": "markdown",
   "id": "f7517100",
   "metadata": {},
   "source": [
    "data input "
   ]
  },
  {
   "cell_type": "code",
   "execution_count": 8,
   "id": "40ba7ccb",
   "metadata": {
    "scrolled": true
   },
   "outputs": [
    {
     "data": {
      "text/html": [
       "<div>\n",
       "<style scoped>\n",
       "    .dataframe tbody tr th:only-of-type {\n",
       "        vertical-align: middle;\n",
       "    }\n",
       "\n",
       "    .dataframe tbody tr th {\n",
       "        vertical-align: top;\n",
       "    }\n",
       "\n",
       "    .dataframe thead th {\n",
       "        text-align: right;\n",
       "    }\n",
       "</style>\n",
       "<table border=\"1\" class=\"dataframe\">\n",
       "  <thead>\n",
       "    <tr style=\"text-align: right;\">\n",
       "      <th></th>\n",
       "      <th>Time</th>\n",
       "      <th>X</th>\n",
       "      <th>Y</th>\n",
       "      <th>Z</th>\n",
       "    </tr>\n",
       "  </thead>\n",
       "  <tbody>\n",
       "    <tr>\n",
       "      <th>0</th>\n",
       "      <td>1622214974579</td>\n",
       "      <td>-0.134344</td>\n",
       "      <td>0.609089</td>\n",
       "      <td>0.838767</td>\n",
       "    </tr>\n",
       "    <tr>\n",
       "      <th>1</th>\n",
       "      <td>1622214974620</td>\n",
       "      <td>-0.063149</td>\n",
       "      <td>0.659804</td>\n",
       "      <td>0.742702</td>\n",
       "    </tr>\n",
       "    <tr>\n",
       "      <th>2</th>\n",
       "      <td>1622214974662</td>\n",
       "      <td>-0.053640</td>\n",
       "      <td>0.668825</td>\n",
       "      <td>0.717101</td>\n",
       "    </tr>\n",
       "    <tr>\n",
       "      <th>3</th>\n",
       "      <td>1622214974704</td>\n",
       "      <td>-0.041693</td>\n",
       "      <td>0.666143</td>\n",
       "      <td>0.736607</td>\n",
       "    </tr>\n",
       "    <tr>\n",
       "      <th>4</th>\n",
       "      <td>1622214974746</td>\n",
       "      <td>-0.066562</td>\n",
       "      <td>0.669800</td>\n",
       "      <td>0.760257</td>\n",
       "    </tr>\n",
       "  </tbody>\n",
       "</table>\n",
       "</div>"
      ],
      "text/plain": [
       "            Time         X         Y         Z\n",
       "0  1622214974579 -0.134344  0.609089  0.838767\n",
       "1  1622214974620 -0.063149  0.659804  0.742702\n",
       "2  1622214974662 -0.053640  0.668825  0.717101\n",
       "3  1622214974704 -0.041693  0.666143  0.736607\n",
       "4  1622214974746 -0.066562  0.669800  0.760257"
      ]
     },
     "execution_count": 8,
     "metadata": {},
     "output_type": "execute_result"
    }
   ],
   "source": [
    "my_step=pd.read_csv('sensor.csv')#data input\n",
    "my_step.head()\n"
   ]
  },
  {
   "cell_type": "markdown",
   "id": "492cc1ee",
   "metadata": {},
   "source": [
    "#warning do not run the below block more that once its a double edged sword "
   ]
  },
  {
   "cell_type": "code",
   "execution_count": 9,
   "id": "f58b5a18",
   "metadata": {},
   "outputs": [
    {
     "data": {
      "application/vnd.plotly.v1+json": {
       "config": {
        "linkText": "Export to plot.ly",
        "plotlyServerURL": "https://plot.ly",
        "showLink": true
       },
       "data": [
        {
         "line": {
          "color": "rgba(255, 153, 51, 1.0)",
          "dash": "solid",
          "shape": "linear",
          "width": 1.3
         },
         "mode": "lines",
         "name": "X",
         "text": "",
         "type": "scatter",
         "x": [
          0,
          0.041,
          0.083,
          0.125,
          0.167,
          0.209,
          0.252,
          0.293,
          0.335,
          0.377,
          0.42,
          0.463,
          0.505,
          0.547,
          0.589,
          0.639,
          0.68,
          0.721,
          0.762,
          0.803,
          0.845,
          0.886,
          0.927,
          0.971,
          1.012,
          1.053,
          1.096,
          1.137,
          1.179,
          1.22,
          1.262,
          1.303,
          1.343,
          1.385,
          1.426,
          1.467,
          1.509,
          1.551,
          1.6,
          1.641,
          1.683,
          1.724,
          1.764,
          1.805,
          1.847,
          1.887,
          1.929,
          1.972,
          2.012,
          2.053,
          2.096,
          2.137,
          2.179,
          2.221,
          2.263,
          2.305,
          2.345,
          2.387,
          2.428,
          2.469,
          2.514,
          2.555,
          2.6,
          2.642,
          2.683,
          2.724,
          2.766,
          2.807,
          2.848,
          2.891,
          2.932,
          2.974,
          3.016,
          3.057,
          3.099,
          3.141,
          3.183,
          3.224,
          3.266,
          3.307,
          3.348,
          3.392,
          3.441,
          3.482,
          3.524,
          3.567,
          3.609,
          3.649,
          3.692,
          3.733,
          3.775,
          3.817,
          3.859,
          3.901,
          3.942,
          3.984,
          4.025,
          4.067,
          4.108,
          4.149,
          4.191,
          4.24,
          4.281,
          4.323,
          4.365,
          4.407,
          4.45,
          4.492,
          4.533,
          4.574,
          4.616,
          4.656,
          4.698,
          4.741,
          4.783,
          4.824,
          4.865,
          4.907,
          4.95,
          5,
          5.042,
          5.083,
          5.125,
          5.167,
          5.207,
          5.249,
          5.293,
          5.335,
          5.377,
          5.422,
          5.463,
          5.504,
          5.545,
          5.587,
          5.63,
          5.68,
          5.721,
          5.762,
          5.803,
          5.845,
          5.886,
          5.929,
          5.97,
          6.012,
          6.053,
          6.094,
          6.137,
          6.177,
          6.221,
          6.261,
          6.302,
          6.345,
          6.386,
          6.427,
          6.469,
          6.514,
          6.555,
          6.599,
          6.64,
          6.681,
          6.723,
          6.765,
          6.806,
          6.847,
          6.887,
          6.929,
          6.973,
          7.015,
          7.057,
          7.099,
          7.143,
          7.184,
          7.228,
          7.27,
          7.313,
          7.354,
          7.401,
          7.443,
          7.486,
          7.527,
          7.569,
          7.613,
          7.655,
          7.696,
          7.737,
          7.778,
          7.819,
          7.861,
          7.903,
          7.945,
          7.987,
          8.027,
          8.069,
          8.11,
          8.151,
          8.201,
          8.244,
          8.285,
          8.327,
          8.368,
          8.409,
          8.452,
          8.493,
          8.536,
          8.577,
          8.618,
          8.659,
          8.701,
          8.743,
          8.785,
          8.827,
          8.881,
          9.037,
          9.081,
          9.124,
          9.166,
          9.208,
          9.25,
          9.292,
          9.333,
          9.374,
          9.415,
          9.458,
          9.5,
          9.542,
          9.583,
          9.623,
          9.666,
          9.707,
          9.747,
          9.79,
          9.84,
          9.88,
          9.922,
          9.962,
          10.004,
          10.045,
          10.086,
          10.128,
          10.17,
          10.214,
          10.255,
          10.296,
          10.337,
          10.378,
          10.419,
          10.462,
          10.503,
          10.544,
          10.587,
          10.628,
          10.669,
          10.711,
          10.755,
          10.8,
          10.841,
          10.882,
          10.923,
          10.966,
          11.007,
          11.047,
          11.089,
          11.132,
          11.173,
          11.215,
          11.257,
          11.299,
          11.342,
          11.384,
          11.427,
          11.469,
          11.511,
          11.555,
          11.601,
          11.643,
          11.685,
          11.727,
          11.769,
          11.81,
          11.852,
          11.893,
          11.935,
          11.977,
          12.019,
          12.061,
          12.103,
          12.145,
          12.186,
          12.228,
          12.269,
          12.317,
          12.361,
          12.403,
          12.445,
          12.486,
          12.528,
          12.569,
          12.613,
          12.653,
          12.697,
          12.739,
          12.781,
          12.826,
          12.867,
          12.909,
          12.955,
          13,
          13.041,
          13.083,
          13.125,
          13.167,
          13.207,
          13.249,
          13.292,
          13.333,
          13.373,
          13.415,
          13.457,
          13.5,
          13.542,
          13.583,
          13.624,
          13.665,
          13.707,
          13.749,
          13.799,
          13.841,
          13.881,
          13.922,
          13.966,
          14.007,
          14.049,
          14.092,
          14.133,
          14.173,
          14.215,
          14.257,
          14.298,
          14.339,
          14.38,
          14.421,
          14.463,
          14.505,
          14.547,
          14.588,
          14.629,
          14.671,
          14.714,
          14.755,
          14.799,
          14.84,
          14.881,
          14.921,
          14.964,
          15.005,
          15.048,
          15.089,
          15.133,
          15.175,
          15.218,
          15.261,
          15.304,
          15.345,
          15.386,
          15.429,
          15.47,
          15.514,
          15.555,
          15.602,
          15.643,
          15.686,
          15.727,
          15.768,
          15.81,
          15.853,
          15.894,
          15.936,
          15.978,
          16.019,
          16.059,
          16.107,
          16.15,
          16.201,
          16.242,
          16.287,
          16.329,
          16.372,
          16.412,
          16.453,
          16.495,
          16.538,
          16.579,
          16.621,
          16.662,
          16.703,
          16.744,
          16.785,
          16.826,
          16.868,
          16.909,
          16.953,
          17,
          17.042,
          17.084,
          17.125,
          17.171,
          17.217,
          17.258,
          17.31,
          17.367,
          17.407,
          17.452,
          17.493,
          17.535,
          17.576,
          17.617,
          17.662,
          17.703,
          17.745,
          17.79,
          17.833,
          17.883,
          17.925,
          17.966,
          18.007,
          18.049,
          18.091,
          18.132,
          18.176,
          18.217,
          18.259,
          18.299,
          18.341,
          18.382,
          18.423,
          18.467,
          18.508,
          18.549,
          18.599,
          18.64,
          18.683
         ],
         "y": [
          -0.13434409,
          -0.06314903,
          -0.05364011,
          -0.04169299,
          -0.066562496,
          -0.038523346,
          -0.05997939,
          -0.066318676,
          -0.06339285,
          -0.091432,
          -0.07290178,
          -0.052908644,
          -0.03340316,
          -0.075096145,
          -0.08289834,
          -0.058516476,
          -0.066318676,
          -0.06851304,
          -0.072170325,
          -0.075096145,
          -0.0692445,
          -0.060710847,
          -0.040961534,
          -0.027063873,
          -0.055346835,
          -0.05997939,
          -0.055590656,
          -0.056809746,
          -0.028039146,
          -0.004876373,
          -0.09240727,
          -0.11361949,
          -0.008046015,
          -0.069000676,
          -0.1516552,
          -0.14994848,
          -0.12654188,
          -0.094114,
          -0.035353705,
          -0.024381867,
          -0.24991412,
          0.0082898345,
          -0.13019916,
          0.14653501,
          0.0073145595,
          -0.087287076,
          -0.30135986,
          -0.3698729,
          -1.3990619,
          -0.8443745,
          -0.36353362,
          -0.23235917,
          0.2235817,
          0.26283652,
          0.39523005,
          0.4296085,
          0.5149755,
          -0.06461194,
          0.18383928,
          -0.05997939,
          -1.2839795,
          -0.66102284,
          0.10752403,
          -0.007070741,
          -0.13946427,
          -0.21577951,
          0.042668264,
          0.12824862,
          0.54813486,
          -0.03974244,
          -0.64493084,
          -0.16701578,
          -0.31013733,
          -0.03291552,
          -0.28526783,
          -0.047788456,
          -0.7451403,
          -0.6939384,
          0.26039833,
          -0.3033104,
          -0.51156205,
          0.61128384,
          0.45399034,
          0.41278496,
          0.14336537,
          -0.7490414,
          -0.60177493,
          -0.53667533,
          -0.35548759,
          -0.57519865,
          -0.45082068,
          -0.14434065,
          -0.117764406,
          0.12873624,
          0.35938868,
          0.46106106,
          0.022187497,
          0.13678227,
          -0.33525065,
          -0.4225377,
          -0.3164766,
          -0.65858465,
          -0.46179253,
          -0.5793436,
          -0.5520359,
          -0.6354219,
          -0.1504361,
          0.21577951,
          0.20944022,
          0.2718578,
          0.2760027,
          0.038523346,
          -0.32232827,
          -0.37036055,
          -0.53009224,
          -0.11971497,
          0.024381867,
          -0.26478708,
          -0.28770602,
          -0.090700544,
          -0.55496174,
          -0.27966,
          -0.08899381,
          -0.009996565,
          -0.06826922,
          0.075339966,
          0.47276434,
          -0.313307,
          0.085092716,
          -0.36499652,
          -0.40839624,
          0.3174519,
          -0.54203933,
          -0.95677483,
          -0.0548592,
          -0.0136538455,
          -0.008533653,
          -0.40205696,
          -0.0731456,
          -0.27015108,
          -0.40693334,
          -0.3740178,
          -0.38986605,
          -0.13873282,
          -0.25527814,
          -0.14824174,
          -0.1594574,
          -0.39839968,
          0.059491754,
          0.020968404,
          -1.0123656,
          -0.014141482,
          -0.62201184,
          -0.318671,
          -0.1699416,
          -0.5705661,
          0.042424448,
          -0.017311124,
          -0.23918611,
          -0.24918267,
          0.048519913,
          -0.46228015,
          -0.62298715,
          -0.37621218,
          -0.08923762,
          -0.24869503,
          -0.9477536,
          -1.1084301,
          -0.44399378,
          -0.4496016,
          0.07095122,
          -0.51278114,
          0.3008722,
          0.20822112,
          0.24942648,
          0.37474927,
          0.26600617,
          0.24016139,
          0.21334134,
          0.1255666,
          0.27502745,
          0.18725273,
          0.08948144,
          0.026820054,
          -0.14287773,
          -0.18237635,
          -0.10825549,
          -0.24918267,
          0.011459477,
          -0.22016825,
          -0.10386674,
          -0.22723898,
          -0.4271703,
          -0.3962053,
          -0.40864006,
          -0.61250293,
          -0.79780513,
          -0.67809016,
          -0.6812598,
          -0.6776025,
          -0.92678523,
          -1.049426,
          -0.9153257,
          -0.8287701,
          -0.63615334,
          -0.65785325,
          -0.5622763,
          -0.5415517,
          -0.50497895,
          -0.6385915,
          -0.6417612,
          -0.7665963,
          -0.86339235,
          -0.68296653,
          -1.1125749,
          -0.1804258,
          -0.04900755,
          -0.24869503,
          -0.069000676,
          0.07338942,
          0.23382208,
          0.28965658,
          0.38620874,
          0.4430185,
          0.28648692,
          0.4040075,
          0.44228706,
          0.29965314,
          0.24455012,
          0.15555629,
          -0.24674448,
          -0.075583786,
          -0.040717717,
          -0.0902129,
          0.15336193,
          0.42741412,
          0.53545624,
          0.24089284,
          0.2248008,
          -0.028039146,
          -0.15506867,
          -0.5593505,
          -0.75440544,
          -0.33354393,
          -0.23089626,
          -0.25430286,
          -0.5274102,
          -0.9184954,
          -1.1859645,
          -1.0255318,
          -0.7434336,
          -0.3581696,
          -0.20992786,
          -0.3464663,
          -0.45594087,
          -0.57641774,
          -0.4257074,
          -0.8051197,
          -0.8143848,
          -0.8782653,
          -0.86339235,
          -0.89777076,
          -0.7378257,
          -0.6893058,
          -0.47569022,
          -0.33768886,
          -0.9340998,
          -0.60323787,
          -0.5595943,
          -0.2508894,
          -0.5344809,
          -0.274296,
          -0.0980151,
          -0.20602676,
          0.053883925,
          -0.025844777,
          0.06583104,
          0.1738427,
          0.14019573,
          0.10313529,
          0.0863118,
          0.1267857,
          0.121421695,
          -0.096308365,
          -0.19554256,
          -0.41522315,
          -0.58641434,
          0.44813868,
          -0.17140453,
          -0.22772662,
          -0.66638684,
          -0.039254803,
          -0.14214627,
          0.0136538455,
          0.13434409,
          0.0004876373,
          0.38523346,
          0.28209817,
          -0.28526783,
          0.117520586,
          -0.25722867,
          -0.66980034,
          -0.16189559,
          -0.096064545,
          -0.29502058,
          0.06705013,
          0.03998626,
          -0.02901442,
          0.080947794,
          -0.05802884,
          -0.02194368,
          -0.1738427,
          -0.48690587,
          -0.4415556,
          -0.3372012,
          -0.56203246,
          -0.59104687,
          -0.41863662,
          -0.57983124,
          -0.38206384,
          -0.36938527,
          -0.41546696,
          -0.33403155,
          -0.318671,
          -0.4040075,
          -0.19407965,
          -0.40766478,
          -0.06705013,
          -0.3620707,
          -0.42765793,
          -0.8826541,
          -0.574711,
          -0.3398832,
          -0.20700203,
          -0.22992098,
          -0.17896289,
          0.09996565,
          0.3215968,
          0.30574858,
          0.19505493,
          0.12532279,
          -0.0692445,
          -0.33549446,
          -0.35207415,
          -0.5125373,
          -0.43862978,
          -0.25186467,
          -0.47300816,
          -0.2679567,
          -0.50790477,
          -0.21992444,
          -0.26332417,
          -0.25917923,
          -0.037304256,
          -0.124103695,
          -0.29063186,
          -0.20090657,
          -0.7700098,
          -0.0365728,
          -0.33427536,
          -0.52667874,
          0.117520586,
          -0.23967375,
          -0.007070741,
          0.23187153,
          -0.26600617,
          -0.09045672,
          0.022187497,
          0.023406591,
          -0.36524037,
          -0.36133924,
          -0.15409338,
          -0.17823143,
          -0.43960506,
          -0.6551712,
          -0.663461,
          -0.45082068,
          -0.47373962,
          -0.473252,
          -0.3776751,
          -0.51692605,
          -0.78537035,
          -0.7887838,
          -1.0374789,
          -1.0377227,
          -1.0699068,
          -1.1393951,
          -0.88704276,
          -0.8314521,
          -0.6534645,
          -0.28453636,
          -0.05339629,
          -0.11118131,
          0.0012190932,
          -0.03340316,
          -0.05217719,
          0.23089626,
          0.48958787,
          0.56983465,
          0.34987977,
          0.15482484,
          -0.085092716,
          -0.2913633,
          -0.41546696,
          -0.30891824,
          -0.3935233,
          -0.46691272,
          -0.30794296,
          -0.23601645,
          -0.3932795,
          -0.93336827,
          -0.90630436,
          -1.2396045,
          -1.1871835,
          -1.2544775,
          -1.1191581,
          -0.9284919,
          -0.71832025,
          -0.37182346,
          -0.16287087,
          -0.17676853,
          -0.10679258,
          -0.18944709,
          -0.11849586,
          -0.013410027,
          0.038767166,
          -0.05997939,
          -0.15994504,
          0.14677884,
          0.13166209,
          -0.02535714,
          -0.3135508,
          -0.10337911,
          -0.07021977,
          0.11703295,
          -0.048032273,
          -0.028526783,
          -0.031696424,
          -0.04559409,
          0.0026820053,
          0.039254803
         ]
        }
       ],
       "layout": {
        "legend": {
         "bgcolor": "#F5F6F9",
         "font": {
          "color": "#4D5663"
         }
        },
        "paper_bgcolor": "#F5F6F9",
        "plot_bgcolor": "#F5F6F9",
        "template": {
         "data": {
          "bar": [
           {
            "error_x": {
             "color": "#2a3f5f"
            },
            "error_y": {
             "color": "#2a3f5f"
            },
            "marker": {
             "line": {
              "color": "#E5ECF6",
              "width": 0.5
             }
            },
            "type": "bar"
           }
          ],
          "barpolar": [
           {
            "marker": {
             "line": {
              "color": "#E5ECF6",
              "width": 0.5
             }
            },
            "type": "barpolar"
           }
          ],
          "carpet": [
           {
            "aaxis": {
             "endlinecolor": "#2a3f5f",
             "gridcolor": "white",
             "linecolor": "white",
             "minorgridcolor": "white",
             "startlinecolor": "#2a3f5f"
            },
            "baxis": {
             "endlinecolor": "#2a3f5f",
             "gridcolor": "white",
             "linecolor": "white",
             "minorgridcolor": "white",
             "startlinecolor": "#2a3f5f"
            },
            "type": "carpet"
           }
          ],
          "choropleth": [
           {
            "colorbar": {
             "outlinewidth": 0,
             "ticks": ""
            },
            "type": "choropleth"
           }
          ],
          "contour": [
           {
            "colorbar": {
             "outlinewidth": 0,
             "ticks": ""
            },
            "colorscale": [
             [
              0,
              "#0d0887"
             ],
             [
              0.1111111111111111,
              "#46039f"
             ],
             [
              0.2222222222222222,
              "#7201a8"
             ],
             [
              0.3333333333333333,
              "#9c179e"
             ],
             [
              0.4444444444444444,
              "#bd3786"
             ],
             [
              0.5555555555555556,
              "#d8576b"
             ],
             [
              0.6666666666666666,
              "#ed7953"
             ],
             [
              0.7777777777777778,
              "#fb9f3a"
             ],
             [
              0.8888888888888888,
              "#fdca26"
             ],
             [
              1,
              "#f0f921"
             ]
            ],
            "type": "contour"
           }
          ],
          "contourcarpet": [
           {
            "colorbar": {
             "outlinewidth": 0,
             "ticks": ""
            },
            "type": "contourcarpet"
           }
          ],
          "heatmap": [
           {
            "colorbar": {
             "outlinewidth": 0,
             "ticks": ""
            },
            "colorscale": [
             [
              0,
              "#0d0887"
             ],
             [
              0.1111111111111111,
              "#46039f"
             ],
             [
              0.2222222222222222,
              "#7201a8"
             ],
             [
              0.3333333333333333,
              "#9c179e"
             ],
             [
              0.4444444444444444,
              "#bd3786"
             ],
             [
              0.5555555555555556,
              "#d8576b"
             ],
             [
              0.6666666666666666,
              "#ed7953"
             ],
             [
              0.7777777777777778,
              "#fb9f3a"
             ],
             [
              0.8888888888888888,
              "#fdca26"
             ],
             [
              1,
              "#f0f921"
             ]
            ],
            "type": "heatmap"
           }
          ],
          "heatmapgl": [
           {
            "colorbar": {
             "outlinewidth": 0,
             "ticks": ""
            },
            "colorscale": [
             [
              0,
              "#0d0887"
             ],
             [
              0.1111111111111111,
              "#46039f"
             ],
             [
              0.2222222222222222,
              "#7201a8"
             ],
             [
              0.3333333333333333,
              "#9c179e"
             ],
             [
              0.4444444444444444,
              "#bd3786"
             ],
             [
              0.5555555555555556,
              "#d8576b"
             ],
             [
              0.6666666666666666,
              "#ed7953"
             ],
             [
              0.7777777777777778,
              "#fb9f3a"
             ],
             [
              0.8888888888888888,
              "#fdca26"
             ],
             [
              1,
              "#f0f921"
             ]
            ],
            "type": "heatmapgl"
           }
          ],
          "histogram": [
           {
            "marker": {
             "colorbar": {
              "outlinewidth": 0,
              "ticks": ""
             }
            },
            "type": "histogram"
           }
          ],
          "histogram2d": [
           {
            "colorbar": {
             "outlinewidth": 0,
             "ticks": ""
            },
            "colorscale": [
             [
              0,
              "#0d0887"
             ],
             [
              0.1111111111111111,
              "#46039f"
             ],
             [
              0.2222222222222222,
              "#7201a8"
             ],
             [
              0.3333333333333333,
              "#9c179e"
             ],
             [
              0.4444444444444444,
              "#bd3786"
             ],
             [
              0.5555555555555556,
              "#d8576b"
             ],
             [
              0.6666666666666666,
              "#ed7953"
             ],
             [
              0.7777777777777778,
              "#fb9f3a"
             ],
             [
              0.8888888888888888,
              "#fdca26"
             ],
             [
              1,
              "#f0f921"
             ]
            ],
            "type": "histogram2d"
           }
          ],
          "histogram2dcontour": [
           {
            "colorbar": {
             "outlinewidth": 0,
             "ticks": ""
            },
            "colorscale": [
             [
              0,
              "#0d0887"
             ],
             [
              0.1111111111111111,
              "#46039f"
             ],
             [
              0.2222222222222222,
              "#7201a8"
             ],
             [
              0.3333333333333333,
              "#9c179e"
             ],
             [
              0.4444444444444444,
              "#bd3786"
             ],
             [
              0.5555555555555556,
              "#d8576b"
             ],
             [
              0.6666666666666666,
              "#ed7953"
             ],
             [
              0.7777777777777778,
              "#fb9f3a"
             ],
             [
              0.8888888888888888,
              "#fdca26"
             ],
             [
              1,
              "#f0f921"
             ]
            ],
            "type": "histogram2dcontour"
           }
          ],
          "mesh3d": [
           {
            "colorbar": {
             "outlinewidth": 0,
             "ticks": ""
            },
            "type": "mesh3d"
           }
          ],
          "parcoords": [
           {
            "line": {
             "colorbar": {
              "outlinewidth": 0,
              "ticks": ""
             }
            },
            "type": "parcoords"
           }
          ],
          "pie": [
           {
            "automargin": true,
            "type": "pie"
           }
          ],
          "scatter": [
           {
            "marker": {
             "colorbar": {
              "outlinewidth": 0,
              "ticks": ""
             }
            },
            "type": "scatter"
           }
          ],
          "scatter3d": [
           {
            "line": {
             "colorbar": {
              "outlinewidth": 0,
              "ticks": ""
             }
            },
            "marker": {
             "colorbar": {
              "outlinewidth": 0,
              "ticks": ""
             }
            },
            "type": "scatter3d"
           }
          ],
          "scattercarpet": [
           {
            "marker": {
             "colorbar": {
              "outlinewidth": 0,
              "ticks": ""
             }
            },
            "type": "scattercarpet"
           }
          ],
          "scattergeo": [
           {
            "marker": {
             "colorbar": {
              "outlinewidth": 0,
              "ticks": ""
             }
            },
            "type": "scattergeo"
           }
          ],
          "scattergl": [
           {
            "marker": {
             "colorbar": {
              "outlinewidth": 0,
              "ticks": ""
             }
            },
            "type": "scattergl"
           }
          ],
          "scattermapbox": [
           {
            "marker": {
             "colorbar": {
              "outlinewidth": 0,
              "ticks": ""
             }
            },
            "type": "scattermapbox"
           }
          ],
          "scatterpolar": [
           {
            "marker": {
             "colorbar": {
              "outlinewidth": 0,
              "ticks": ""
             }
            },
            "type": "scatterpolar"
           }
          ],
          "scatterpolargl": [
           {
            "marker": {
             "colorbar": {
              "outlinewidth": 0,
              "ticks": ""
             }
            },
            "type": "scatterpolargl"
           }
          ],
          "scatterternary": [
           {
            "marker": {
             "colorbar": {
              "outlinewidth": 0,
              "ticks": ""
             }
            },
            "type": "scatterternary"
           }
          ],
          "surface": [
           {
            "colorbar": {
             "outlinewidth": 0,
             "ticks": ""
            },
            "colorscale": [
             [
              0,
              "#0d0887"
             ],
             [
              0.1111111111111111,
              "#46039f"
             ],
             [
              0.2222222222222222,
              "#7201a8"
             ],
             [
              0.3333333333333333,
              "#9c179e"
             ],
             [
              0.4444444444444444,
              "#bd3786"
             ],
             [
              0.5555555555555556,
              "#d8576b"
             ],
             [
              0.6666666666666666,
              "#ed7953"
             ],
             [
              0.7777777777777778,
              "#fb9f3a"
             ],
             [
              0.8888888888888888,
              "#fdca26"
             ],
             [
              1,
              "#f0f921"
             ]
            ],
            "type": "surface"
           }
          ],
          "table": [
           {
            "cells": {
             "fill": {
              "color": "#EBF0F8"
             },
             "line": {
              "color": "white"
             }
            },
            "header": {
             "fill": {
              "color": "#C8D4E3"
             },
             "line": {
              "color": "white"
             }
            },
            "type": "table"
           }
          ]
         },
         "layout": {
          "annotationdefaults": {
           "arrowcolor": "#2a3f5f",
           "arrowhead": 0,
           "arrowwidth": 1
          },
          "autotypenumbers": "strict",
          "coloraxis": {
           "colorbar": {
            "outlinewidth": 0,
            "ticks": ""
           }
          },
          "colorscale": {
           "diverging": [
            [
             0,
             "#8e0152"
            ],
            [
             0.1,
             "#c51b7d"
            ],
            [
             0.2,
             "#de77ae"
            ],
            [
             0.3,
             "#f1b6da"
            ],
            [
             0.4,
             "#fde0ef"
            ],
            [
             0.5,
             "#f7f7f7"
            ],
            [
             0.6,
             "#e6f5d0"
            ],
            [
             0.7,
             "#b8e186"
            ],
            [
             0.8,
             "#7fbc41"
            ],
            [
             0.9,
             "#4d9221"
            ],
            [
             1,
             "#276419"
            ]
           ],
           "sequential": [
            [
             0,
             "#0d0887"
            ],
            [
             0.1111111111111111,
             "#46039f"
            ],
            [
             0.2222222222222222,
             "#7201a8"
            ],
            [
             0.3333333333333333,
             "#9c179e"
            ],
            [
             0.4444444444444444,
             "#bd3786"
            ],
            [
             0.5555555555555556,
             "#d8576b"
            ],
            [
             0.6666666666666666,
             "#ed7953"
            ],
            [
             0.7777777777777778,
             "#fb9f3a"
            ],
            [
             0.8888888888888888,
             "#fdca26"
            ],
            [
             1,
             "#f0f921"
            ]
           ],
           "sequentialminus": [
            [
             0,
             "#0d0887"
            ],
            [
             0.1111111111111111,
             "#46039f"
            ],
            [
             0.2222222222222222,
             "#7201a8"
            ],
            [
             0.3333333333333333,
             "#9c179e"
            ],
            [
             0.4444444444444444,
             "#bd3786"
            ],
            [
             0.5555555555555556,
             "#d8576b"
            ],
            [
             0.6666666666666666,
             "#ed7953"
            ],
            [
             0.7777777777777778,
             "#fb9f3a"
            ],
            [
             0.8888888888888888,
             "#fdca26"
            ],
            [
             1,
             "#f0f921"
            ]
           ]
          },
          "colorway": [
           "#636efa",
           "#EF553B",
           "#00cc96",
           "#ab63fa",
           "#FFA15A",
           "#19d3f3",
           "#FF6692",
           "#B6E880",
           "#FF97FF",
           "#FECB52"
          ],
          "font": {
           "color": "#2a3f5f"
          },
          "geo": {
           "bgcolor": "white",
           "lakecolor": "white",
           "landcolor": "#E5ECF6",
           "showlakes": true,
           "showland": true,
           "subunitcolor": "white"
          },
          "hoverlabel": {
           "align": "left"
          },
          "hovermode": "closest",
          "mapbox": {
           "style": "light"
          },
          "paper_bgcolor": "white",
          "plot_bgcolor": "#E5ECF6",
          "polar": {
           "angularaxis": {
            "gridcolor": "white",
            "linecolor": "white",
            "ticks": ""
           },
           "bgcolor": "#E5ECF6",
           "radialaxis": {
            "gridcolor": "white",
            "linecolor": "white",
            "ticks": ""
           }
          },
          "scene": {
           "xaxis": {
            "backgroundcolor": "#E5ECF6",
            "gridcolor": "white",
            "gridwidth": 2,
            "linecolor": "white",
            "showbackground": true,
            "ticks": "",
            "zerolinecolor": "white"
           },
           "yaxis": {
            "backgroundcolor": "#E5ECF6",
            "gridcolor": "white",
            "gridwidth": 2,
            "linecolor": "white",
            "showbackground": true,
            "ticks": "",
            "zerolinecolor": "white"
           },
           "zaxis": {
            "backgroundcolor": "#E5ECF6",
            "gridcolor": "white",
            "gridwidth": 2,
            "linecolor": "white",
            "showbackground": true,
            "ticks": "",
            "zerolinecolor": "white"
           }
          },
          "shapedefaults": {
           "line": {
            "color": "#2a3f5f"
           }
          },
          "ternary": {
           "aaxis": {
            "gridcolor": "white",
            "linecolor": "white",
            "ticks": ""
           },
           "baxis": {
            "gridcolor": "white",
            "linecolor": "white",
            "ticks": ""
           },
           "bgcolor": "#E5ECF6",
           "caxis": {
            "gridcolor": "white",
            "linecolor": "white",
            "ticks": ""
           }
          },
          "title": {
           "x": 0.05
          },
          "xaxis": {
           "automargin": true,
           "gridcolor": "white",
           "linecolor": "white",
           "ticks": "",
           "title": {
            "standoff": 15
           },
           "zerolinecolor": "white",
           "zerolinewidth": 2
          },
          "yaxis": {
           "automargin": true,
           "gridcolor": "white",
           "linecolor": "white",
           "ticks": "",
           "title": {
            "standoff": 15
           },
           "zerolinecolor": "white",
           "zerolinewidth": 2
          }
         }
        },
        "title": {
         "font": {
          "color": "#4D5663"
         }
        },
        "xaxis": {
         "gridcolor": "#E1E5ED",
         "showgrid": true,
         "tickfont": {
          "color": "#4D5663"
         },
         "title": {
          "font": {
           "color": "#4D5663"
          },
          "text": "time"
         },
         "zerolinecolor": "#E1E5ED"
        },
        "yaxis": {
         "gridcolor": "#E1E5ED",
         "showgrid": true,
         "tickfont": {
          "color": "#4D5663"
         },
         "title": {
          "font": {
           "color": "#4D5663"
          },
          "text": "acceleration"
         },
         "zerolinecolor": "#E1E5ED"
        }
       }
      },
      "text/html": [
       "<div>                            <div id=\"aa0fad2f-5c98-4f64-b3dd-dc8187889635\" class=\"plotly-graph-div\" style=\"height:525px; width:100%;\"></div>            <script type=\"text/javascript\">                require([\"plotly\"], function(Plotly) {                    window.PLOTLYENV=window.PLOTLYENV || {};\n",
       "                    window.PLOTLYENV.BASE_URL='https://plot.ly';                                    if (document.getElementById(\"aa0fad2f-5c98-4f64-b3dd-dc8187889635\")) {                    Plotly.newPlot(                        \"aa0fad2f-5c98-4f64-b3dd-dc8187889635\",                        [{\"line\": {\"color\": \"rgba(255, 153, 51, 1.0)\", \"dash\": \"solid\", \"shape\": \"linear\", \"width\": 1.3}, \"mode\": \"lines\", \"name\": \"X\", \"text\": \"\", \"type\": \"scatter\", \"x\": [0.0, 0.041, 0.083, 0.125, 0.167, 0.209, 0.252, 0.293, 0.335, 0.377, 0.42, 0.463, 0.505, 0.547, 0.589, 0.639, 0.68, 0.721, 0.762, 0.803, 0.845, 0.886, 0.927, 0.971, 1.012, 1.053, 1.096, 1.137, 1.179, 1.22, 1.262, 1.303, 1.343, 1.385, 1.426, 1.467, 1.509, 1.551, 1.6, 1.641, 1.683, 1.724, 1.764, 1.805, 1.847, 1.887, 1.929, 1.972, 2.012, 2.053, 2.096, 2.137, 2.179, 2.221, 2.263, 2.305, 2.345, 2.387, 2.428, 2.469, 2.514, 2.555, 2.6, 2.642, 2.683, 2.724, 2.766, 2.807, 2.848, 2.891, 2.932, 2.974, 3.016, 3.057, 3.099, 3.141, 3.183, 3.224, 3.266, 3.307, 3.348, 3.392, 3.441, 3.482, 3.524, 3.567, 3.609, 3.649, 3.692, 3.733, 3.775, 3.817, 3.859, 3.901, 3.942, 3.984, 4.025, 4.067, 4.108, 4.149, 4.191, 4.24, 4.281, 4.323, 4.365, 4.407, 4.45, 4.492, 4.533, 4.574, 4.616, 4.656, 4.698, 4.741, 4.783, 4.824, 4.865, 4.907, 4.95, 5.0, 5.042, 5.083, 5.125, 5.167, 5.207, 5.249, 5.293, 5.335, 5.377, 5.422, 5.463, 5.504, 5.545, 5.587, 5.63, 5.68, 5.721, 5.762, 5.803, 5.845, 5.886, 5.929, 5.97, 6.012, 6.053, 6.094, 6.137, 6.177, 6.221, 6.261, 6.302, 6.345, 6.386, 6.427, 6.469, 6.514, 6.555, 6.599, 6.64, 6.681, 6.723, 6.765, 6.806, 6.847, 6.887, 6.929, 6.973, 7.015, 7.057, 7.099, 7.143, 7.184, 7.228, 7.27, 7.313, 7.354, 7.401, 7.443, 7.486, 7.527, 7.569, 7.613, 7.655, 7.696, 7.737, 7.778, 7.819, 7.861, 7.903, 7.945, 7.987, 8.027, 8.069, 8.11, 8.151, 8.201, 8.244, 8.285, 8.327, 8.368, 8.409, 8.452, 8.493, 8.536, 8.577, 8.618, 8.659, 8.701, 8.743, 8.785, 8.827, 8.881, 9.037, 9.081, 9.124, 9.166, 9.208, 9.25, 9.292, 9.333, 9.374, 9.415, 9.458, 9.5, 9.542, 9.583, 9.623, 9.666, 9.707, 9.747, 9.79, 9.84, 9.88, 9.922, 9.962, 10.004, 10.045, 10.086, 10.128, 10.17, 10.214, 10.255, 10.296, 10.337, 10.378, 10.419, 10.462, 10.503, 10.544, 10.587, 10.628, 10.669, 10.711, 10.755, 10.8, 10.841, 10.882, 10.923, 10.966, 11.007, 11.047, 11.089, 11.132, 11.173, 11.215, 11.257, 11.299, 11.342, 11.384, 11.427, 11.469, 11.511, 11.555, 11.601, 11.643, 11.685, 11.727, 11.769, 11.81, 11.852, 11.893, 11.935, 11.977, 12.019, 12.061, 12.103, 12.145, 12.186, 12.228, 12.269, 12.317, 12.361, 12.403, 12.445, 12.486, 12.528, 12.569, 12.613, 12.653, 12.697, 12.739, 12.781, 12.826, 12.867, 12.909, 12.955, 13.0, 13.041, 13.083, 13.125, 13.167, 13.207, 13.249, 13.292, 13.333, 13.373, 13.415, 13.457, 13.5, 13.542, 13.583, 13.624, 13.665, 13.707, 13.749, 13.799, 13.841, 13.881, 13.922, 13.966, 14.007, 14.049, 14.092, 14.133, 14.173, 14.215, 14.257, 14.298, 14.339, 14.38, 14.421, 14.463, 14.505, 14.547, 14.588, 14.629, 14.671, 14.714, 14.755, 14.799, 14.84, 14.881, 14.921, 14.964, 15.005, 15.048, 15.089, 15.133, 15.175, 15.218, 15.261, 15.304, 15.345, 15.386, 15.429, 15.47, 15.514, 15.555, 15.602, 15.643, 15.686, 15.727, 15.768, 15.81, 15.853, 15.894, 15.936, 15.978, 16.019, 16.059, 16.107, 16.15, 16.201, 16.242, 16.287, 16.329, 16.372, 16.412, 16.453, 16.495, 16.538, 16.579, 16.621, 16.662, 16.703, 16.744, 16.785, 16.826, 16.868, 16.909, 16.953, 17.0, 17.042, 17.084, 17.125, 17.171, 17.217, 17.258, 17.31, 17.367, 17.407, 17.452, 17.493, 17.535, 17.576, 17.617, 17.662, 17.703, 17.745, 17.79, 17.833, 17.883, 17.925, 17.966, 18.007, 18.049, 18.091, 18.132, 18.176, 18.217, 18.259, 18.299, 18.341, 18.382, 18.423, 18.467, 18.508, 18.549, 18.599, 18.64, 18.683], \"y\": [-0.13434409, -0.06314903, -0.05364011, -0.04169299, -0.066562496, -0.038523346, -0.05997939, -0.066318676, -0.06339285, -0.091432, -0.07290178, -0.052908644, -0.03340316, -0.075096145, -0.08289834, -0.058516476, -0.066318676, -0.06851304, -0.072170325, -0.075096145, -0.0692445, -0.060710847, -0.040961534, -0.027063873, -0.055346835, -0.05997939, -0.055590656, -0.056809746, -0.028039146, -0.004876373, -0.09240727, -0.11361949, -0.008046015, -0.069000676, -0.1516552, -0.14994848, -0.12654188, -0.094114, -0.035353705, -0.024381867, -0.24991412, 0.0082898345, -0.13019916, 0.14653501, 0.0073145595, -0.087287076, -0.30135986, -0.3698729, -1.3990619, -0.8443745, -0.36353362, -0.23235917, 0.2235817, 0.26283652, 0.39523005, 0.4296085, 0.5149755, -0.06461194, 0.18383928, -0.05997939, -1.2839795, -0.66102284, 0.10752403, -0.007070741, -0.13946427, -0.21577951, 0.042668264, 0.12824862, 0.54813486, -0.03974244, -0.64493084, -0.16701578, -0.31013733, -0.03291552, -0.28526783, -0.047788456, -0.7451403, -0.6939384, 0.26039833, -0.3033104, -0.51156205, 0.61128384, 0.45399034, 0.41278496, 0.14336537, -0.7490414, -0.60177493, -0.53667533, -0.35548759, -0.57519865, -0.45082068, -0.14434065, -0.117764406, 0.12873624, 0.35938868, 0.46106106, 0.022187497, 0.13678227, -0.33525065, -0.4225377, -0.3164766, -0.65858465, -0.46179253, -0.5793436, -0.5520359, -0.6354219, -0.1504361, 0.21577951, 0.20944022, 0.2718578, 0.2760027, 0.038523346, -0.32232827, -0.37036055, -0.53009224, -0.11971497, 0.024381867, -0.26478708, -0.28770602, -0.090700544, -0.55496174, -0.27966, -0.08899381, -0.009996565, -0.06826922, 0.075339966, 0.47276434, -0.313307, 0.085092716, -0.36499652, -0.40839624, 0.3174519, -0.54203933, -0.95677483, -0.0548592, -0.0136538455, -0.008533653, -0.40205696, -0.0731456, -0.27015108, -0.40693334, -0.3740178, -0.38986605, -0.13873282, -0.25527814, -0.14824174, -0.1594574, -0.39839968, 0.059491754, 0.020968404, -1.0123656, -0.014141482, -0.62201184, -0.318671, -0.1699416, -0.5705661, 0.042424448, -0.017311124, -0.23918611, -0.24918267, 0.048519913, -0.46228015, -0.62298715, -0.37621218, -0.08923762, -0.24869503, -0.9477536, -1.1084301, -0.44399378, -0.4496016, 0.07095122, -0.51278114, 0.3008722, 0.20822112, 0.24942648, 0.37474927, 0.26600617, 0.24016139, 0.21334134, 0.1255666, 0.27502745, 0.18725273, 0.08948144, 0.026820054, -0.14287773, -0.18237635, -0.10825549, -0.24918267, 0.011459477, -0.22016825, -0.10386674, -0.22723898, -0.4271703, -0.3962053, -0.40864006, -0.61250293, -0.79780513, -0.67809016, -0.6812598, -0.6776025, -0.92678523, -1.049426, -0.9153257, -0.8287701, -0.63615334, -0.65785325, -0.5622763, -0.5415517, -0.50497895, -0.6385915, -0.6417612, -0.7665963, -0.86339235, -0.68296653, -1.1125749, -0.1804258, -0.04900755, -0.24869503, -0.069000676, 0.07338942, 0.23382208, 0.28965658, 0.38620874, 0.4430185, 0.28648692, 0.4040075, 0.44228706, 0.29965314, 0.24455012, 0.15555629, -0.24674448, -0.075583786, -0.040717717, -0.0902129, 0.15336193, 0.42741412, 0.53545624, 0.24089284, 0.2248008, -0.028039146, -0.15506867, -0.5593505, -0.75440544, -0.33354393, -0.23089626, -0.25430286, -0.5274102, -0.9184954, -1.1859645, -1.0255318, -0.7434336, -0.3581696, -0.20992786, -0.3464663, -0.45594087, -0.57641774, -0.4257074, -0.8051197, -0.8143848, -0.8782653, -0.86339235, -0.89777076, -0.7378257, -0.6893058, -0.47569022, -0.33768886, -0.9340998, -0.60323787, -0.5595943, -0.2508894, -0.5344809, -0.274296, -0.0980151, -0.20602676, 0.053883925, -0.025844777, 0.06583104, 0.1738427, 0.14019573, 0.10313529, 0.0863118, 0.1267857, 0.121421695, -0.096308365, -0.19554256, -0.41522315, -0.58641434, 0.44813868, -0.17140453, -0.22772662, -0.66638684, -0.039254803, -0.14214627, 0.0136538455, 0.13434409, 0.0004876373, 0.38523346, 0.28209817, -0.28526783, 0.117520586, -0.25722867, -0.66980034, -0.16189559, -0.096064545, -0.29502058, 0.06705013, 0.03998626, -0.02901442, 0.080947794, -0.05802884, -0.02194368, -0.1738427, -0.48690587, -0.4415556, -0.3372012, -0.56203246, -0.59104687, -0.41863662, -0.57983124, -0.38206384, -0.36938527, -0.41546696, -0.33403155, -0.318671, -0.4040075, -0.19407965, -0.40766478, -0.06705013, -0.3620707, -0.42765793, -0.8826541, -0.574711, -0.3398832, -0.20700203, -0.22992098, -0.17896289, 0.09996565, 0.3215968, 0.30574858, 0.19505493, 0.12532279, -0.0692445, -0.33549446, -0.35207415, -0.5125373, -0.43862978, -0.25186467, -0.47300816, -0.2679567, -0.50790477, -0.21992444, -0.26332417, -0.25917923, -0.037304256, -0.124103695, -0.29063186, -0.20090657, -0.7700098, -0.0365728, -0.33427536, -0.52667874, 0.117520586, -0.23967375, -0.007070741, 0.23187153, -0.26600617, -0.09045672, 0.022187497, 0.023406591, -0.36524037, -0.36133924, -0.15409338, -0.17823143, -0.43960506, -0.6551712, -0.663461, -0.45082068, -0.47373962, -0.473252, -0.3776751, -0.51692605, -0.78537035, -0.7887838, -1.0374789, -1.0377227, -1.0699068, -1.1393951, -0.88704276, -0.8314521, -0.6534645, -0.28453636, -0.05339629, -0.11118131, 0.0012190932, -0.03340316, -0.05217719, 0.23089626, 0.48958787, 0.56983465, 0.34987977, 0.15482484, -0.085092716, -0.2913633, -0.41546696, -0.30891824, -0.3935233, -0.46691272, -0.30794296, -0.23601645, -0.3932795, -0.93336827, -0.90630436, -1.2396045, -1.1871835, -1.2544775, -1.1191581, -0.9284919, -0.71832025, -0.37182346, -0.16287087, -0.17676853, -0.10679258, -0.18944709, -0.11849586, -0.013410027, 0.038767166, -0.05997939, -0.15994504, 0.14677884, 0.13166209, -0.02535714, -0.3135508, -0.10337911, -0.07021977, 0.11703295, -0.048032273, -0.028526783, -0.031696424, -0.04559409, 0.0026820053, 0.039254803]}],                        {\"legend\": {\"bgcolor\": \"#F5F6F9\", \"font\": {\"color\": \"#4D5663\"}}, \"paper_bgcolor\": \"#F5F6F9\", \"plot_bgcolor\": \"#F5F6F9\", \"template\": {\"data\": {\"bar\": [{\"error_x\": {\"color\": \"#2a3f5f\"}, \"error_y\": {\"color\": \"#2a3f5f\"}, \"marker\": {\"line\": {\"color\": \"#E5ECF6\", \"width\": 0.5}}, \"type\": \"bar\"}], \"barpolar\": [{\"marker\": {\"line\": {\"color\": \"#E5ECF6\", \"width\": 0.5}}, \"type\": \"barpolar\"}], \"carpet\": [{\"aaxis\": {\"endlinecolor\": \"#2a3f5f\", \"gridcolor\": \"white\", \"linecolor\": \"white\", \"minorgridcolor\": \"white\", \"startlinecolor\": \"#2a3f5f\"}, \"baxis\": {\"endlinecolor\": \"#2a3f5f\", \"gridcolor\": \"white\", \"linecolor\": \"white\", \"minorgridcolor\": \"white\", \"startlinecolor\": \"#2a3f5f\"}, \"type\": \"carpet\"}], \"choropleth\": [{\"colorbar\": {\"outlinewidth\": 0, \"ticks\": \"\"}, \"type\": \"choropleth\"}], \"contour\": [{\"colorbar\": {\"outlinewidth\": 0, \"ticks\": \"\"}, \"colorscale\": [[0.0, \"#0d0887\"], [0.1111111111111111, \"#46039f\"], [0.2222222222222222, \"#7201a8\"], [0.3333333333333333, \"#9c179e\"], [0.4444444444444444, \"#bd3786\"], [0.5555555555555556, \"#d8576b\"], [0.6666666666666666, \"#ed7953\"], [0.7777777777777778, \"#fb9f3a\"], [0.8888888888888888, \"#fdca26\"], [1.0, \"#f0f921\"]], \"type\": \"contour\"}], \"contourcarpet\": [{\"colorbar\": {\"outlinewidth\": 0, \"ticks\": \"\"}, \"type\": \"contourcarpet\"}], \"heatmap\": [{\"colorbar\": {\"outlinewidth\": 0, \"ticks\": \"\"}, \"colorscale\": [[0.0, \"#0d0887\"], [0.1111111111111111, \"#46039f\"], [0.2222222222222222, \"#7201a8\"], [0.3333333333333333, \"#9c179e\"], [0.4444444444444444, \"#bd3786\"], [0.5555555555555556, \"#d8576b\"], [0.6666666666666666, \"#ed7953\"], [0.7777777777777778, \"#fb9f3a\"], [0.8888888888888888, \"#fdca26\"], [1.0, \"#f0f921\"]], \"type\": \"heatmap\"}], \"heatmapgl\": [{\"colorbar\": {\"outlinewidth\": 0, \"ticks\": \"\"}, \"colorscale\": [[0.0, \"#0d0887\"], [0.1111111111111111, \"#46039f\"], [0.2222222222222222, \"#7201a8\"], [0.3333333333333333, \"#9c179e\"], [0.4444444444444444, \"#bd3786\"], [0.5555555555555556, \"#d8576b\"], [0.6666666666666666, \"#ed7953\"], [0.7777777777777778, \"#fb9f3a\"], [0.8888888888888888, \"#fdca26\"], [1.0, \"#f0f921\"]], \"type\": \"heatmapgl\"}], \"histogram\": [{\"marker\": {\"colorbar\": {\"outlinewidth\": 0, \"ticks\": \"\"}}, \"type\": \"histogram\"}], \"histogram2d\": [{\"colorbar\": {\"outlinewidth\": 0, \"ticks\": \"\"}, \"colorscale\": [[0.0, \"#0d0887\"], [0.1111111111111111, \"#46039f\"], [0.2222222222222222, \"#7201a8\"], [0.3333333333333333, \"#9c179e\"], [0.4444444444444444, \"#bd3786\"], [0.5555555555555556, \"#d8576b\"], [0.6666666666666666, \"#ed7953\"], [0.7777777777777778, \"#fb9f3a\"], [0.8888888888888888, \"#fdca26\"], [1.0, \"#f0f921\"]], \"type\": \"histogram2d\"}], \"histogram2dcontour\": [{\"colorbar\": {\"outlinewidth\": 0, \"ticks\": \"\"}, \"colorscale\": [[0.0, \"#0d0887\"], [0.1111111111111111, \"#46039f\"], [0.2222222222222222, \"#7201a8\"], [0.3333333333333333, \"#9c179e\"], [0.4444444444444444, \"#bd3786\"], [0.5555555555555556, \"#d8576b\"], [0.6666666666666666, \"#ed7953\"], [0.7777777777777778, \"#fb9f3a\"], [0.8888888888888888, \"#fdca26\"], [1.0, \"#f0f921\"]], \"type\": \"histogram2dcontour\"}], \"mesh3d\": [{\"colorbar\": {\"outlinewidth\": 0, \"ticks\": \"\"}, \"type\": \"mesh3d\"}], \"parcoords\": [{\"line\": {\"colorbar\": {\"outlinewidth\": 0, \"ticks\": \"\"}}, \"type\": \"parcoords\"}], \"pie\": [{\"automargin\": true, \"type\": \"pie\"}], \"scatter\": [{\"marker\": {\"colorbar\": {\"outlinewidth\": 0, \"ticks\": \"\"}}, \"type\": \"scatter\"}], \"scatter3d\": [{\"line\": {\"colorbar\": {\"outlinewidth\": 0, \"ticks\": \"\"}}, \"marker\": {\"colorbar\": {\"outlinewidth\": 0, \"ticks\": \"\"}}, \"type\": \"scatter3d\"}], \"scattercarpet\": [{\"marker\": {\"colorbar\": {\"outlinewidth\": 0, \"ticks\": \"\"}}, \"type\": \"scattercarpet\"}], \"scattergeo\": [{\"marker\": {\"colorbar\": {\"outlinewidth\": 0, \"ticks\": \"\"}}, \"type\": \"scattergeo\"}], \"scattergl\": [{\"marker\": {\"colorbar\": {\"outlinewidth\": 0, \"ticks\": \"\"}}, \"type\": \"scattergl\"}], \"scattermapbox\": [{\"marker\": {\"colorbar\": {\"outlinewidth\": 0, \"ticks\": \"\"}}, \"type\": \"scattermapbox\"}], \"scatterpolar\": [{\"marker\": {\"colorbar\": {\"outlinewidth\": 0, \"ticks\": \"\"}}, \"type\": \"scatterpolar\"}], \"scatterpolargl\": [{\"marker\": {\"colorbar\": {\"outlinewidth\": 0, \"ticks\": \"\"}}, \"type\": \"scatterpolargl\"}], \"scatterternary\": [{\"marker\": {\"colorbar\": {\"outlinewidth\": 0, \"ticks\": \"\"}}, \"type\": \"scatterternary\"}], \"surface\": [{\"colorbar\": {\"outlinewidth\": 0, \"ticks\": \"\"}, \"colorscale\": [[0.0, \"#0d0887\"], [0.1111111111111111, \"#46039f\"], [0.2222222222222222, \"#7201a8\"], [0.3333333333333333, \"#9c179e\"], [0.4444444444444444, \"#bd3786\"], [0.5555555555555556, \"#d8576b\"], [0.6666666666666666, \"#ed7953\"], [0.7777777777777778, \"#fb9f3a\"], [0.8888888888888888, \"#fdca26\"], [1.0, \"#f0f921\"]], \"type\": \"surface\"}], \"table\": [{\"cells\": {\"fill\": {\"color\": \"#EBF0F8\"}, \"line\": {\"color\": \"white\"}}, \"header\": {\"fill\": {\"color\": \"#C8D4E3\"}, \"line\": {\"color\": \"white\"}}, \"type\": \"table\"}]}, \"layout\": {\"annotationdefaults\": {\"arrowcolor\": \"#2a3f5f\", \"arrowhead\": 0, \"arrowwidth\": 1}, \"autotypenumbers\": \"strict\", \"coloraxis\": {\"colorbar\": {\"outlinewidth\": 0, \"ticks\": \"\"}}, \"colorscale\": {\"diverging\": [[0, \"#8e0152\"], [0.1, \"#c51b7d\"], [0.2, \"#de77ae\"], [0.3, \"#f1b6da\"], [0.4, \"#fde0ef\"], [0.5, \"#f7f7f7\"], [0.6, \"#e6f5d0\"], [0.7, \"#b8e186\"], [0.8, \"#7fbc41\"], [0.9, \"#4d9221\"], [1, \"#276419\"]], \"sequential\": [[0.0, \"#0d0887\"], [0.1111111111111111, \"#46039f\"], [0.2222222222222222, \"#7201a8\"], [0.3333333333333333, \"#9c179e\"], [0.4444444444444444, \"#bd3786\"], [0.5555555555555556, \"#d8576b\"], [0.6666666666666666, \"#ed7953\"], [0.7777777777777778, \"#fb9f3a\"], [0.8888888888888888, \"#fdca26\"], [1.0, \"#f0f921\"]], \"sequentialminus\": [[0.0, \"#0d0887\"], [0.1111111111111111, \"#46039f\"], [0.2222222222222222, \"#7201a8\"], [0.3333333333333333, \"#9c179e\"], [0.4444444444444444, \"#bd3786\"], [0.5555555555555556, \"#d8576b\"], [0.6666666666666666, \"#ed7953\"], [0.7777777777777778, \"#fb9f3a\"], [0.8888888888888888, \"#fdca26\"], [1.0, \"#f0f921\"]]}, \"colorway\": [\"#636efa\", \"#EF553B\", \"#00cc96\", \"#ab63fa\", \"#FFA15A\", \"#19d3f3\", \"#FF6692\", \"#B6E880\", \"#FF97FF\", \"#FECB52\"], \"font\": {\"color\": \"#2a3f5f\"}, \"geo\": {\"bgcolor\": \"white\", \"lakecolor\": \"white\", \"landcolor\": \"#E5ECF6\", \"showlakes\": true, \"showland\": true, \"subunitcolor\": \"white\"}, \"hoverlabel\": {\"align\": \"left\"}, \"hovermode\": \"closest\", \"mapbox\": {\"style\": \"light\"}, \"paper_bgcolor\": \"white\", \"plot_bgcolor\": \"#E5ECF6\", \"polar\": {\"angularaxis\": {\"gridcolor\": \"white\", \"linecolor\": \"white\", \"ticks\": \"\"}, \"bgcolor\": \"#E5ECF6\", \"radialaxis\": {\"gridcolor\": \"white\", \"linecolor\": \"white\", \"ticks\": \"\"}}, \"scene\": {\"xaxis\": {\"backgroundcolor\": \"#E5ECF6\", \"gridcolor\": \"white\", \"gridwidth\": 2, \"linecolor\": \"white\", \"showbackground\": true, \"ticks\": \"\", \"zerolinecolor\": \"white\"}, \"yaxis\": {\"backgroundcolor\": \"#E5ECF6\", \"gridcolor\": \"white\", \"gridwidth\": 2, \"linecolor\": \"white\", \"showbackground\": true, \"ticks\": \"\", \"zerolinecolor\": \"white\"}, \"zaxis\": {\"backgroundcolor\": \"#E5ECF6\", \"gridcolor\": \"white\", \"gridwidth\": 2, \"linecolor\": \"white\", \"showbackground\": true, \"ticks\": \"\", \"zerolinecolor\": \"white\"}}, \"shapedefaults\": {\"line\": {\"color\": \"#2a3f5f\"}}, \"ternary\": {\"aaxis\": {\"gridcolor\": \"white\", \"linecolor\": \"white\", \"ticks\": \"\"}, \"baxis\": {\"gridcolor\": \"white\", \"linecolor\": \"white\", \"ticks\": \"\"}, \"bgcolor\": \"#E5ECF6\", \"caxis\": {\"gridcolor\": \"white\", \"linecolor\": \"white\", \"ticks\": \"\"}}, \"title\": {\"x\": 0.05}, \"xaxis\": {\"automargin\": true, \"gridcolor\": \"white\", \"linecolor\": \"white\", \"ticks\": \"\", \"title\": {\"standoff\": 15}, \"zerolinecolor\": \"white\", \"zerolinewidth\": 2}, \"yaxis\": {\"automargin\": true, \"gridcolor\": \"white\", \"linecolor\": \"white\", \"ticks\": \"\", \"title\": {\"standoff\": 15}, \"zerolinecolor\": \"white\", \"zerolinewidth\": 2}}}, \"title\": {\"font\": {\"color\": \"#4D5663\"}}, \"xaxis\": {\"gridcolor\": \"#E1E5ED\", \"showgrid\": true, \"tickfont\": {\"color\": \"#4D5663\"}, \"title\": {\"font\": {\"color\": \"#4D5663\"}, \"text\": \"time\"}, \"zerolinecolor\": \"#E1E5ED\"}, \"yaxis\": {\"gridcolor\": \"#E1E5ED\", \"showgrid\": true, \"tickfont\": {\"color\": \"#4D5663\"}, \"title\": {\"font\": {\"color\": \"#4D5663\"}, \"text\": \"acceleration\"}, \"zerolinecolor\": \"#E1E5ED\"}},                        {\"showLink\": true, \"linkText\": \"Export to plot.ly\", \"plotlyServerURL\": \"https://plot.ly\", \"responsive\": true}                    ).then(function(){\n",
       "                            \n",
       "var gd = document.getElementById('aa0fad2f-5c98-4f64-b3dd-dc8187889635');\n",
       "var x = new MutationObserver(function (mutations, observer) {{\n",
       "        var display = window.getComputedStyle(gd).display;\n",
       "        if (!display || display === 'none') {{\n",
       "            console.log([gd, 'removed!']);\n",
       "            Plotly.purge(gd);\n",
       "            observer.disconnect();\n",
       "        }}\n",
       "}});\n",
       "\n",
       "// Listen for the removal of the full notebook cells\n",
       "var notebookContainer = gd.closest('#notebook-container');\n",
       "if (notebookContainer) {{\n",
       "    x.observe(notebookContainer, {childList: true});\n",
       "}}\n",
       "\n",
       "// Listen for the clearing of the current output cell\n",
       "var outputEl = gd.closest('.output');\n",
       "if (outputEl) {{\n",
       "    x.observe(outputEl, {childList: true});\n",
       "}}\n",
       "\n",
       "                        })                };                });            </script>        </div>"
      ]
     },
     "metadata": {},
     "output_type": "display_data"
    }
   ],
   "source": [
    "my_step['Time']=(my_step['Time']-1622214974579)/1000\n",
    "X=my_step['X']#taking x component of the inputed data\n",
    "time_of_event=np.linspace(0,20,len(X))#creating equally spaced time intervels between 0 and 20\n",
    "my_step.iplot(kind='line',x='Time',y='X',size=10,xTitle='time',yTitle='acceleration')"
   ]
  },
  {
   "cell_type": "code",
   "execution_count": 10,
   "id": "4811d04e",
   "metadata": {},
   "outputs": [],
   "source": [
    "x=np.array(X)\n",
    "freqs = fftfreq(x.size, 0.05)#calculate frequency currusponding to fft\n",
    "x_mean=np.mean(x)#mean for the data\n",
    "x_norm=x-x_mean#normalizing the data \n",
    "fft_unnorm=fft(x)#fft of unnormalized data\n",
    "fft_norm=fft(x_norm)#fft of normalized data\n",
    "mag_norm=abs(fft_norm)**2/20\n",
    "mag_unnorm=abs(fft_unnorm)**2/20\n"
   ]
  },
  {
   "cell_type": "markdown",
   "id": "f58c9608",
   "metadata": {},
   "source": [
    "plot for psd of unnormalized data"
   ]
  },
  {
   "cell_type": "code",
   "execution_count": 11,
   "id": "dfbb8eee",
   "metadata": {},
   "outputs": [
    {
     "data": {
      "text/plain": [
       "Text(0, 0.5, 'power')"
      ]
     },
     "execution_count": 11,
     "metadata": {},
     "output_type": "execute_result"
    },
    {
     "data": {
      "image/png": "[encoded data removed]",
      "text/plain": [
       "<Figure size 720x576 with 1 Axes>"
      ]
     },
     "metadata": {
      "needs_background": "light"
     },
     "output_type": "display_data"
    }
   ],
   "source": [
    "plt.figure(figsize=(10,8))\n",
    "plt.plot(abs(freqs),mag_unnorm,'b.-')\n",
    "plt.xlabel('Frequency')\n",
    "plt.ylabel('power')"
   ]
  },
  {
   "cell_type": "markdown",
   "id": "b9710de3",
   "metadata": {},
   "source": [
    "psd of normalized data"
   ]
  },
  {
   "cell_type": "code",
   "execution_count": 12,
   "id": "6514f5e9",
   "metadata": {},
   "outputs": [
    {
     "data": {
      "text/plain": [
       "Text(0, 0.5, 'power')"
      ]
     },
     "execution_count": 12,
     "metadata": {},
     "output_type": "execute_result"
    },
    {
     "data": {
      "image/png": "[encoded data removed]",
      "text/plain": [
       "<Figure size 720x504 with 1 Axes>"
      ]
     },
     "metadata": {
      "needs_background": "light"
     },
     "output_type": "display_data"
    }
   ],
   "source": [
    "plt.figure(figsize=(10,7))\n",
    "plt.plot(abs(freqs),mag_norm,'b.-')\n",
    "plt.xlabel('Frequency')\n",
    "plt.ylabel('power')"
   ]
  },
  {
   "cell_type": "markdown",
   "id": "08af15cb",
   "metadata": {},
   "source": [
    "psd using welches method"
   ]
  },
  {
   "cell_type": "code",
   "execution_count": 13,
   "id": "ae8cb486",
   "metadata": {},
   "outputs": [
    {
     "data": {
      "text/plain": [
       "Text(0, 0.5, 'power spectral density')"
      ]
     },
     "execution_count": 13,
     "metadata": {},
     "output_type": "execute_result"
    },
    {
     "data": {
      "image/png": "[encoded data removed]",
      "text/plain": [
       "<Figure size 720x504 with 1 Axes>"
      ]
     },
     "metadata": {
      "needs_background": "light"
     },
     "output_type": "display_data"
    }
   ],
   "source": [
    "plt.figure(figsize=(10,7))\n",
    "freq,psd=signal.welch(X,20)\n",
    "plt.plot(freq,psd,'b.-')#plotting psd using welches method\n",
    "plt.xlabel('frequency')\n",
    "plt.ylabel('power spectral density')"
   ]
  },
  {
   "cell_type": "markdown",
   "id": "7a4f8977",
   "metadata": {},
   "source": [
    "from above data we can conclude that the max effect is due to frequencies between 0,2 we the best result for this data will be achieved when using a lowpass filter "
   ]
  },
  {
   "cell_type": "code",
   "execution_count": 14,
   "id": "4a5338fc",
   "metadata": {},
   "outputs": [],
   "source": [
    "cutoff_high=4#cutoff for highpass filter \n",
    "cutoff_low=3#cutoff for lowpass filter\n",
    "lowcut=0.5#cutoff for bandpass filter\n",
    "highcut=2.5#cutoff for bandpass filter\n",
    "fs=20\n",
    "order=8#reason for order \n"
   ]
  },
  {
   "cell_type": "markdown",
   "id": "84d90daf",
   "metadata": {},
   "source": [
    "   # filter coeff"
   ]
  },
  {
   "cell_type": "code",
   "execution_count": 15,
   "id": "553902b2",
   "metadata": {},
   "outputs": [],
   "source": [
    "b,a=butter_bandpass(lowcut,highcut,fs,8)\n",
    "b1,a1= butter_lowpass(cutoff_low,fs,order)\n",
    "b2,a2=butter_highpass(cutoff_high,fs,order)"
   ]
  },
  {
   "cell_type": "markdown",
   "id": "b0a2bca3",
   "metadata": {},
   "source": [
    "values of frequency at which digital transfer fn is calculated and the value of digital transfer fn at those values"
   ]
  },
  {
   "cell_type": "markdown",
   "id": "0fd4a328",
   "metadata": {},
   "source": [
    "plotting frequency vs digital transfer fn vs frequency for bandpass"
   ]
  },
  {
   "cell_type": "code",
   "execution_count": 16,
   "id": "6e901c6c",
   "metadata": {},
   "outputs": [
    {
     "data": {
      "application/vnd.jupyter.widget-view+json": {
       "model_id": "4a4da646fd834f0faad271ae635061ce",
       "version_major": 2,
       "version_minor": 0
      },
      "text/plain": [
       "interactive(children=(FloatSlider(value=4.0, description='lower_freq', max=9.0), FloatSlider(value=4.0, descri…"
      ]
     },
     "metadata": {},
     "output_type": "display_data"
    }
   ],
   "source": [
    "@widgets.interact(lower_freq=(0, 9, 0.1),high_freq=(0,9,0.1),order=(0,20,1))\n",
    "def highpassass_plot(lower_freq,high_freq,order):\n",
    "    b,a=butter_bandpass(lower_freq,high_freq,fs,order)\n",
    "    w, h = freqz(b, a, worN=8000)\n",
    "    plt.figure(figsize=(10,7))\n",
    "    plt.subplot(3, 1, 1)\n",
    "    plt.plot(0.5*fs*w/np.pi, np.abs(h), 'b')\n",
    "    plt.plot(lower_freq, 0.5*np.sqrt(2), 'ko')\n",
    "    plt.plot(high_freq, 0.5*np.sqrt(2), 'ko')\n",
    "    plt.axvline(lower_freq,color='k')\n",
    "    plt.axvline(high_freq,color='k')\n",
    "    plt.xlim(0, 0.5*fs)\n",
    "    plt.title(\"bandpass Filter Frequency Response\")\n",
    "    plt.xlabel('Frequency [Hz]')\n",
    "    plt.grid()"
   ]
  },
  {
   "cell_type": "markdown",
   "id": "2830710c",
   "metadata": {},
   "source": [
    "plotting frequency vs digital transfer fn vs frequency for lowpass"
   ]
  },
  {
   "cell_type": "code",
   "execution_count": 17,
   "id": "d4c39cbe",
   "metadata": {},
   "outputs": [
    {
     "data": {
      "application/vnd.jupyter.widget-view+json": {
       "model_id": "d761fce510414eeb89d8e51962b931e9",
       "version_major": 2,
       "version_minor": 0
      },
      "text/plain": [
       "interactive(children=(IntSlider(value=4, description='cutoff', max=9), IntSlider(value=10, description='order'…"
      ]
     },
     "metadata": {},
     "output_type": "display_data"
    }
   ],
   "source": [
    "@widgets.interact(cutoff=(0, 9, 1),order=(0,20,1))\n",
    "def lowpass_dtf(cutoff,order):\n",
    "  b1,a1= butter_lowpass(cutoff,fs,order)#filter coeff\n",
    "  w1,hi=freqz(b1, a1, worN=8000)#h ratio of filtered data vs input data w,he frequencies at which `h` was computed for low pass\n",
    "  plt.figure(figsize=(10,7))\n",
    "  plt.subplot(2, 1, 1)\n",
    "  plt.plot(0.5*fs*w1/np.pi, np.abs(hi), 'b')\n",
    "  plt.plot(cutoff, 0.5*np.sqrt(2), 'ko')\n",
    "  plt.axvline(cutoff, color='k')\n",
    "  plt.xlim(0, 0.5*fs)\n",
    "  plt.title(\"Lowpass Filter Frequency Response\")\n",
    "  plt.xlabel('Frequency [Hz]')\n",
    "  plt.grid()"
   ]
  },
  {
   "cell_type": "markdown",
   "id": "84dc97bd",
   "metadata": {},
   "source": [
    "plotting frequency vs digital transfer fn vs frequency for highpass"
   ]
  },
  {
   "cell_type": "code",
   "execution_count": 18,
   "id": "296ce9b9",
   "metadata": {},
   "outputs": [
    {
     "data": {
      "application/vnd.jupyter.widget-view+json": {
       "model_id": "a07b4cd6340e429eb7eb41afbd2b91d1",
       "version_major": 2,
       "version_minor": 0
      },
      "text/plain": [
       "interactive(children=(IntSlider(value=4, description='cutoff', max=9), IntSlider(value=10, description='order'…"
      ]
     },
     "metadata": {},
     "output_type": "display_data"
    }
   ],
   "source": [
    "@widgets.interact(cutoff=(0, 9, 1),order=(0,20,1))\n",
    "def highpass_dtf(cutoff,order):\n",
    "  b2,a2= butter_highpass(cutoff,fs,order)\n",
    "  w2,h2=freqz(b2, a2, worN=8000)#h ratio of filtered data vs input data w,he frequencies at which `h` was computed for low pass\n",
    "  plt.figure(figsize=(10,7))\n",
    "  plt.subplot(2, 1, 1)\n",
    "  plt.plot(0.5*fs*w2/np.pi, np.abs(h2), 'b')\n",
    "  plt.plot(cutoff, 0.5*np.sqrt(2),'ko')\n",
    "  plt.axvline(cutoff, color='k')\n",
    "  plt.xlim(0, 0.5*fs)\n",
    "  plt.title(\"highpass Filter Frequency Response\")\n",
    "  plt.xlabel('Frequency [Hz]')\n",
    "  plt.grid()"
   ]
  },
  {
   "cell_type": "markdown",
   "id": "0aa16290",
   "metadata": {},
   "source": [
    "plot of filtered data vs actual data for low pass filter"
   ]
  },
  {
   "cell_type": "code",
   "execution_count": 19,
   "id": "c9f1373a",
   "metadata": {},
   "outputs": [
    {
     "data": {
      "application/vnd.jupyter.widget-view+json": {
       "model_id": "e853af13cfb1470cb63ed962ed93587b",
       "version_major": 2,
       "version_minor": 0
      },
      "text/plain": [
       "interactive(children=(FloatSlider(value=4.0, description='cutoff1', max=9.0), IntSlider(value=10, description=…"
      ]
     },
     "metadata": {},
     "output_type": "display_data"
    }
   ],
   "source": [
    "#fig, ax = plt.subplots(1,1,figsize=(6, 4))\n",
    "# ax.set_ylim([-4, 4])\n",
    "#ax.grid(True)\n",
    "T=20\n",
    "n = int(T * fs) # total number of samples\n",
    "t = np.linspace(0, T, len(x), endpoint=False)\n",
    "# Filter the data, and plot both the original and filtered signals.\n",
    "@widgets.interact(cutoff1=(0, 9, 0.1),order=(0,20,1))\n",
    "def plot_lowpass(cutoff1,order):\n",
    "  #y = butter_lowpass_filter(x,cutoff1,fs, order)\n",
    "  plt.figure(figsize=(10,7))\n",
    "  plt.subplot(2, 1, 2)\n",
    "\n",
    "  plt.plot(t, x, 'b-', label='data')\n",
    "  plt.plot(t,  butter_lowpass_filter(x,cutoff1,fs, order), 'g-', linewidth=2, label='filtered data')\n",
    "  plt.xlabel('Time [sec]')\n",
    "  plt.grid()\n",
    "  plt.legend()\n",
    "  plt.ylabel('acceleration ')\n",
    "  plt.subplots_adjust(hspace=0.35)\n",
    "  plt.show()\n",
    "  \n",
    "\n",
    "\n",
    "  "
   ]
  },
  {
   "cell_type": "markdown",
   "id": "0642cc64",
   "metadata": {},
   "source": [
    "plot of filtered data vs actual data for high pass filter"
   ]
  },
  {
   "cell_type": "code",
   "execution_count": 20,
   "id": "265d83d1",
   "metadata": {},
   "outputs": [
    {
     "data": {
      "application/vnd.jupyter.widget-view+json": {
       "model_id": "9230cb6e0fea46e39451c347a8a2e38a",
       "version_major": 2,
       "version_minor": 0
      },
      "text/plain": [
       "interactive(children=(IntSlider(value=4, description='cutoff2', max=9), IntSlider(value=10, description='order…"
      ]
     },
     "metadata": {},
     "output_type": "display_data"
    }
   ],
   "source": [
    "T = 20    # seconds\n",
    "n = int(T * fs) # total number of samples\n",
    "t = np.linspace(0, T, len(x), endpoint=False)\n",
    "\n",
    "# Filter the data, and plot both the original and filtered signals.\n",
    "@widgets.interact(cutoff2=(0, 9, 1),order=(0,20,1))\n",
    "def plot_highpass(cutoff2,order):\n",
    " \n",
    "  plt.figure(figsize=(10,10))\n",
    "  plt.subplot(2, 1, 2)\n",
    "  plt.plot(t, x, 'b-', label='data')\n",
    "  plt.plot(t,butter_highpass_filter(x, cutoff2, fs, order), 'g-', linewidth=2, label='filtered data')\n",
    "  plt.xlabel('Time [sec]')\n",
    "  plt.grid()\n",
    "  plt.legend()\n",
    "  plt.ylabel('acceleration ')\n",
    "  plt.subplots_adjust(hspace=0.35)\n",
    "  plt.show()"
   ]
  },
  {
   "cell_type": "markdown",
   "id": "2a1cbbe6",
   "metadata": {},
   "source": [
    "plot of filtered data vs actual data for band pass filter"
   ]
  },
  {
   "cell_type": "code",
   "execution_count": 21,
   "id": "8b9e8cbe",
   "metadata": {},
   "outputs": [
    {
     "data": {
      "application/vnd.jupyter.widget-view+json": {
       "model_id": "d4848238e80e4f4cbb16450517af61f0",
       "version_major": 2,
       "version_minor": 0
      },
      "text/plain": [
       "interactive(children=(FloatSlider(value=4.0, description='cutoff3', max=9.0), IntSlider(value=5, description='…"
      ]
     },
     "metadata": {},
     "output_type": "display_data"
    }
   ],
   "source": [
    "T = 20    # seconds\n",
    "n = int(T * fs) # total number of samples\n",
    "t = np.linspace(0, T, len(x), endpoint=False)\n",
    "\n",
    "\n",
    "# Filter the data, and plot both the original and filtered signals.\n",
    "@widgets.interact(cutoff3=(0, 9, 0.1),cutoff4=(1,9,1),order=(0,20,1))\n",
    "def plot_highpass(cutoff3,cutoff4,order):\n",
    "  butter_bandpass_filter(x, cutoff3,cutoff4, fs, order)\n",
    "  plt.figure(figsize=(10,10))\n",
    "  plt.subplot(2, 1, 2)\n",
    "  plt.plot(t, x, 'b-', label='data')\n",
    "  plt.plot(t,  butter_bandpass_filter(x, cutoff3,cutoff4, fs, order), 'g-', linewidth=2, label='filtered data')\n",
    "  plt.xlabel('Time [sec]')\n",
    "  plt.ylabel('acceleration ')\n",
    "  plt.grid()\n",
    "  plt.legend()\n",
    "\n",
    "  plt.subplots_adjust(hspace=0.35)\n",
    "  plt.show()"
   ]
  },
  {
   "cell_type": "markdown",
   "id": "9ca943cc",
   "metadata": {},
   "source": [
    "plotting filtered data for lowpass filter"
   ]
  },
  {
   "cell_type": "code",
   "execution_count": 22,
   "id": "f5e5c24f",
   "metadata": {},
   "outputs": [
    {
     "data": {
      "application/vnd.jupyter.widget-view+json": {
       "model_id": "9a7edddf946340eabcdd586c044b45c7",
       "version_major": 2,
       "version_minor": 0
      },
      "text/plain": [
       "interactive(children=(FloatSlider(value=4.0, description='cutoff', max=9.0), IntSlider(value=10, description='…"
      ]
     },
     "metadata": {},
     "output_type": "display_data"
    }
   ],
   "source": [
    "@widgets.interact(cutoff=(0, 9, 0.1),order=(0,20,1))\n",
    "def lowpass_plot(cutoff,order):\n",
    "  plt.figure(figsize=(10,6))\n",
    "  plt.plot(t,butter_lowpass_filter(x,cutoff,fs, order))#lowpass\n",
    "  plt.xlabel('Time [sec]')\n",
    "  plt.ylabel('acceleration')"
   ]
  },
  {
   "cell_type": "markdown",
   "id": "1d02de86",
   "metadata": {},
   "source": [
    "plotting filtered data for high filter"
   ]
  },
  {
   "cell_type": "code",
   "execution_count": 23,
   "id": "b0d78dd4",
   "metadata": {},
   "outputs": [
    {
     "data": {
      "application/vnd.jupyter.widget-view+json": {
       "model_id": "d3c59f8611a04a4bb67905408f848b39",
       "version_major": 2,
       "version_minor": 0
      },
      "text/plain": [
       "interactive(children=(FloatSlider(value=4.0, description='cutoff', max=9.0), IntSlider(value=10, description='…"
      ]
     },
     "metadata": {},
     "output_type": "display_data"
    }
   ],
   "source": [
    "@widgets.interact(cutoff=(0, 9, 0.1),order=(0,20,1))\n",
    "def highpassass_plot(cutoff,order):\n",
    "  plt.plot(t,butter_highpass_filter(x,cutoff,fs, order))#highpass\n",
    "  plt.xlabel('Time [sec]')\n",
    "  plt.ylabel('acceleration')"
   ]
  },
  {
   "cell_type": "markdown",
   "id": "cd1d0e75",
   "metadata": {},
   "source": [
    "plotting filtered data for bandpass filter"
   ]
  },
  {
   "cell_type": "code",
   "execution_count": 24,
   "id": "4f86f04f",
   "metadata": {},
   "outputs": [
    {
     "data": {
      "application/vnd.jupyter.widget-view+json": {
       "model_id": "9e6fecbc9c1d4bd1941e65cab136e7c2",
       "version_major": 2,
       "version_minor": 0
      },
      "text/plain": [
       "interactive(children=(FloatSlider(value=4.0, description='lower_freq', max=9.0), FloatSlider(value=4.0, descri…"
      ]
     },
     "metadata": {},
     "output_type": "display_data"
    }
   ],
   "source": [
    "@widgets.interact(lower_freq=(0, 9, 0.1),high_freq=(0,9,0.1),order=(0,20,1))\n",
    "def highpassass_plot(lower_freq,high_freq,order):\n",
    "  plt.plot(t,butter_bandpass_filter(x,lower_freq,high_freq,fs, order))#bandpass\n",
    "  plt.xlabel('Time [sec]')\n",
    "  plt.ylabel('acceleration')"
   ]
  },
  {
   "cell_type": "markdown",
   "id": "0984f9c8",
   "metadata": {},
   "source": [
    "# as it can be seen high pass filter is of no use\n",
    "# bandpass filter is only usefull if the lowcut frequency is close to 0\n",
    "# lowpass filter captures the esence of data properly"
   ]
  },
  {
   "cell_type": "code",
   "execution_count": null,
   "id": "d515fb25",
   "metadata": {},
   "outputs": [],
   "source": []
  }
 ],
 "metadata": {
  "kernelspec": {
   "display_name": "Python 3",
   "language": "python",
   "name": "python3"
  },
  "language_info": {
   "codemirror_mode": {
    "name": "ipython",
    "version": 3
   },
   "file_extension": ".py",
   "mimetype": "text/x-python",
   "name": "python",
   "nbconvert_exporter": "python",
   "pygments_lexer": "ipython3",
   "version": "3.9.4"
  }
 },
 "nbformat": 4,
 "nbformat_minor": 5
}
