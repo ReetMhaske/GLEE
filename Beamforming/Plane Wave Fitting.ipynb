{
 "cells": [
  {
   "cell_type": "markdown",
   "metadata": {},
   "source": [
    "# Two events(possibly  separated in space and Time)\n",
    "derives heavily from the code: https://github.com/AnmolHarshana/GLEE/blob/411e735f12c925a0681716334e32f86b5675f65e/Seismology_Simulations/Iteration_receiver_source.ipynb"
   ]
  },
  {
   "cell_type": "code",
   "execution_count": 1,
   "metadata": {},
   "outputs": [],
   "source": [
    "# importing the requiered libraries\n",
    "\n",
    "import numpy as np\n",
    "import matplotlib.pyplot as plt\n",
    "from sympy import *\n"
   ]
  },
  {
   "cell_type": "code",
   "execution_count": null,
   "metadata": {},
   "outputs": [],
   "source": [
    "\n"
   ]
  },
  {
   "cell_type": "markdown",
   "metadata": {},
   "source": []
  },
  {
   "cell_type": "code",
   "execution_count": 2,
   "metadata": {},
   "outputs": [],
   "source": [
    "### Testing out with 101 receivers placed in a line\n",
    "n_rec=11# number of receivers, to be kept odd fro first run\n",
    "\n",
    "rec_pos_act= np.zeros(shape =(n_rec,2))  # Assigning thr actual receiver position\n",
    "\n",
    "v = 200 # m/s ### velocity of propagation (in sand)\n",
    "freq=2 #Hz, max recorded frequency\n",
    "lamda=v/freq# wavelength\n",
    "d=2000#m,  l=2000m  > 10 times lamda \n",
    "src=(d,3*d)\n",
    "\n",
    "\n",
    "for i in range(0,n_rec):\n",
    "    rec_pos_act[i,1]=0\n",
    "    rec_pos_act[i,0]=(i-(n_rec-1)/2)*5 #first receievr at (-50,0) last at (50,0), all in line, distance 5 between them \n",
    "        \n",
    "###rec_pos_act[:,:] = 0# The deployer is at origin. \n",
    "#noise_r = np.random.normal(loc=0.0,scale =100,size = (101,2))\n",
    "t_rec_ideal = np.zeros(shape =(n_rec,))  # time recorded in each receiver; form: (index of receiver,time) \n",
    "\n",
    "rec_pos_mes= rec_pos_act #+noise_r  # rec_pos_mes stores[(x1,y1),(x2,y2),..]\n",
    "\n",
    "for i in range (0,n_rec):\n",
    "    t_rec_ideal[0:n_rec] = np.sqrt((rec_pos_mes[0:n_rec,0]-src[0])**2 + (rec_pos_mes[0:n_rec,1]-src[1])**2)/v\n",
    "\n",
    "\n",
    "t_Rec_real=t_rec_ideal\n",
    "### t_Rec_real has form [[rec1 recording], [rec2 recording]]\n",
    "t_diff=np.zeros(shape=(n_rec,))\n",
    "for i in range(0,n_rec):\n",
    "    t_diff[i]=t_rec_ideal[i]-t_rec_ideal[0]\n"
   ]
  },
  {
   "cell_type": "code",
   "execution_count": 3,
   "metadata": {},
   "outputs": [],
   "source": [
    "def sum_of_errors(s_x,s_y,n_rec,rec_loc,time_diff):\n",
    "    soe=0\n",
    "    for i in range (0,n_rec):\n",
    "        soe+=(time_diff[i]-s_x*rec_loc[i,0]-s_y*rec_loc[i,1])**2\n",
    "    return soe    "
   ]
  },
  {
   "cell_type": "code",
   "execution_count": 4,
   "metadata": {},
   "outputs": [],
   "source": [
    "def estimate_slowness(v,s_x_min,s_y_min,s_x_max,s_y_max,s_x_step,s_y_step,n_rec,rec_loc,time_diff):\n",
    "    s_x_estimate=0\n",
    "    s_y_estimate=0\n",
    "    error=10000\n",
    "    s_x_range = np.linspace(s_x_min,s_x_max,s_x_step)\n",
    "    for s_x_temp in s_x_range :\n",
    "        s_y_range = np.linspace(s_y_min,s_y_max,s_y_step)\n",
    "        for s_y_temp in s_y_range:\n",
    "            soe=sum_of_errors(s_x_temp,s_y_temp,n_rec,rec_loc,time_diff)  \n",
    "            #print(s_x_temp,s_y_temp)\n",
    "            #print(soe)\n",
    "            #print(s_x_temp,s_y_temp)\n",
    "            if ( error>soe):\n",
    "                error =soe\n",
    "                s_x_estimate=s_x_temp\n",
    "                s_y_estimate=s_y_temp\n",
    "                \n",
    "    return (s_x_estimate,s_y_estimate,error)    "
   ]
  },
  {
   "cell_type": "code",
   "execution_count": 5,
   "metadata": {},
   "outputs": [
    {
     "name": "stdout",
     "output_type": "stream",
     "text": [
      "s_x_estimated:  -0.0015656565656565658 s_y_estimated : -0.005 final_error:  0.017304194989893842\n"
     ]
    }
   ],
   "source": [
    "s_x_estimated,s_y_estimated,final_error=estimate_slowness(v,-1/v,-1/v,1/v,1/v,100,100,n_rec,rec_pos_mes,t_diff)\n",
    "print(\"s_x_estimated: \" ,s_x_estimated,\"s_y_estimated :\",s_y_estimated,\"final_error: \", final_error)"
   ]
  },
  {
   "cell_type": "code",
   "execution_count": 6,
   "metadata": {},
   "outputs": [
    {
     "name": "stdout",
     "output_type": "stream",
     "text": [
      "0.3184883743170764 0.0\n"
     ]
    }
   ],
   "source": [
    "sinphi=-v*s_x_estimated\n",
    "cosphi=-v*s_y_estimated\n",
    "print(np.arcsin(sinphi),np.arccos(cosphi))"
   ]
  },
  {
   "cell_type": "code",
   "execution_count": 8,
   "metadata": {},
   "outputs": [
    {
     "name": "stdout",
     "output_type": "stream",
     "text": [
      "actual angle:  1.2490457723982544\n"
     ]
    }
   ],
   "source": [
    "print(\"actual angle: \", np.arctan(src[1]/src[0]))"
   ]
  },
  {
   "cell_type": "code",
   "execution_count": null,
   "metadata": {},
   "outputs": [],
   "source": []
  }
 ],
 "metadata": {
  "kernelspec": {
   "display_name": "Python 3 (ipykernel)",
   "language": "python",
   "name": "python3"
  },
  "language_info": {
   "codemirror_mode": {
    "name": "ipython",
    "version": 3
   },
   "file_extension": ".py",
   "mimetype": "text/x-python",
   "name": "python",
   "nbconvert_exporter": "python",
   "pygments_lexer": "ipython3",
   "version": "3.9.5"
  }
 },
 "nbformat": 4,
 "nbformat_minor": 2
}
