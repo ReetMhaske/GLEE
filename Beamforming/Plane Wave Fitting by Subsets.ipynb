{
 "cells": [
  {
   "cell_type": "markdown",
   "metadata": {},
   "source": [
    "# Plane Wave Fitting for Slowness Estimation\n",
    "Last Update: 14$^{th}$ April,2022 "
   ]
  },
  {
   "cell_type": "markdown",
   "metadata": {},
   "source": [
    "plane wave fitting by iterating over all possible values of phi"
   ]
  },
  {
   "cell_type": "code",
   "execution_count": 1,
   "metadata": {},
   "outputs": [],
   "source": [
    "# importing the requiered libraries\n",
    "\n",
    "import numpy as np\n",
    "import matplotlib.pyplot as plt\n",
    "from sympy import *\n",
    "import random\n"
   ]
  },
  {
   "cell_type": "markdown",
   "metadata": {},
   "source": [
    "##### initialize no. of receivers, apparent horizontal velocity of sound, max frequency of source "
   ]
  },
  {
   "cell_type": "code",
   "execution_count": 2,
   "metadata": {},
   "outputs": [],
   "source": [
    "\n",
    "n_grp=5 # no. of receivers in a subset and not the number of subset\n",
    "no_of_subsets=5\n",
    "n_rec=n_grp*no_of_subsets #  ;number of receivers, to be kept odd for first run\n",
    "\n",
    "rec_pos_act= np.zeros(shape =(n_rec,2))  # Assigning thr actual receiver position\n",
    "\n",
    "v = 2000 # m/s ### velocity of propagation (in sand)\n",
    "freq=2 #Hz, max recorded frequency\n",
    "lamda=v/freq# wavelength\n",
    "d=100#m,  l=2000m  > 10 times lamda "
   ]
  },
  {
   "cell_type": "markdown",
   "metadata": {},
   "source": [
    "##### initialize position of source and  receivers "
   ]
  },
  {
   "cell_type": "code",
   "execution_count": 3,
   "metadata": {},
   "outputs": [],
   "source": [
    "#setting source configuration randomly\n",
    "#np.random.seed(0)\n",
    "a=random.randint(int(d-d/10),d*5) # sourec distance must be more than or equal to d , limits set here are arbitary within this acceptance\n",
    "b=random.randint(int(d-d/10),d*5)\n",
    "src=(b,a)\n",
    "random.randrange(d-d/10,d*5)\n",
    "\n",
    "#setting different receiver configurations\n",
    "\n",
    "#uncomment following line for random distribution\n",
    "rec_pos_act=np.random.normal(0,100,size=(n_rec,2))\n",
    "\n",
    "\n",
    "#uncomment following line for linear distribution\n",
    "for i in range(0,n_rec):\n",
    "    rec_pos_act[i,1]=0\n",
    "    rec_pos_act[i,0]=(i-(n_rec-1)/2)*5 #first receievr at (-50,0) last at (50,0), all in line, distance 5 between them \n",
    "\n",
    "#uncomment following line for circular distribution    \n",
    "for i in range(0,int(n_rec/2)):\n",
    "    rec_pos_act[i,0]=100*cos((2*i)*2*np.pi/n_rec)\n",
    "    rec_pos_act[int(i+n_rec/2),0]=100*cos((2*i+1)*2*np.pi/n_rec)\n",
    "    rec_pos_act[i,1]=100*sin((2*i)*2*np.pi/n_rec)\n",
    "    rec_pos_act[int(i+n_rec/2),1]=100*sin((2*i+1)*2*np.pi/n_rec)\n",
    "\n",
    "\n"
   ]
  },
  {
   "cell_type": "markdown",
   "metadata": {},
   "source": [
    "initialize time recordings by time of arrival, introduce noise in time and position"
   ]
  },
  {
   "cell_type": "code",
   "execution_count": 4,
   "metadata": {},
   "outputs": [],
   "source": [
    "\n",
    "\n",
    "t_rec_ideal = np.zeros(shape =(n_rec,))  # time recorded in each receiver; form: (index of receiver,time) \n",
    "\n",
    "\n",
    "t_noise=np.random.normal(0,0.01,size=(n_rec,))\n",
    "\n",
    "#introduce noise in position\n",
    "rec_pos_noise=np.random.normal(0,5,size=(n_rec,2))\n",
    "\n",
    "rec_pos_mes= rec_pos_act + rec_pos_noise  # rec_pos_mes stores[(x1,y1),(x2,y2),..] \n",
    "\n",
    "\n",
    "\n",
    "#initialising time recordings\n",
    "\n",
    "for i in range (0,n_rec):\n",
    "    t_rec_ideal[0:n_rec] = np.sqrt((rec_pos_mes[0:n_rec,0]-src[0])**2 + (rec_pos_mes[0:n_rec,1]-src[1])**2)/v\n",
    "\n",
    "\n",
    "\n",
    "### t_Rec_real has form [[rec1 recording], [rec2 recording]]\n",
    "\n",
    "# introduce noise in time\n",
    "t_Rec_real=t_rec_ideal #+ t_noise\n",
    "\n",
    "\n",
    "# time difference between time recordings wrt receiver 1st rec, \n",
    "#in the form : time recorded by receiver at ith position - time recorded by 1st receiver \n",
    "#t_diff=np.zeros(shape=(n_rec,))\n",
    "#for i in range(0,n_rec):\n",
    " #   t_diff[i]=t_Rec_real[i]-t_Rec_real[0]\n",
    "    \n",
    "   \n",
    "    \n",
    "    \n",
    "    "
   ]
  },
  {
   "cell_type": "code",
   "execution_count": null,
   "metadata": {},
   "outputs": [],
   "source": []
  },
  {
   "cell_type": "markdown",
   "metadata": {},
   "source": [
    "We iterate over all values of the backazimuth $\\phi$ such that it minimizes the error expression for \n",
    "N receivers:\n",
    "$\\hat{s} = \\min_{s}\\sum_{i=1}^{N} (\\tau_{i} - r_{i}.s)^2 $\n",
    "where i is the index of the receivers\n",
    "$\\tau_{i}$ is the time difference for $i^{th}$ receiver\n",
    "where the slowness vector $\\vec{s}$ is defined as:\n",
    "$\\vec{s} = (-\\frac{\\sin{\\phi}}{v}, -\\frac{\\cos{\\phi}}{v})$"
   ]
  },
  {
   "cell_type": "code",
   "execution_count": 6,
   "metadata": {},
   "outputs": [],
   "source": [
    "#function to return the error expression for a particular s, v and given configuration of receivers : \n",
    "\n",
    "def sum_of_errors(s_x,s_y,n_rec,rec_loc,time_diff):\n",
    "    ''' returns the error expression for particular  slowness vector s , apparent horizontal velocity v, receiver positions, and time differences\\\n",
    "        input s in form of s_x and s_y ( x and y coordinate ) \\\n",
    "        input n_rec: number of receivers \\\n",
    "        input rec_loc: 2-D array for receiver location , in form [(x_1,y_1),...(x_n_rec,y_n_rec)]\\\n",
    "        input time_diff: 1-D array for time difference [(t_i)]'''  \n",
    "    soe=0 # sume of errors\n",
    "    # find sum over all receivers\n",
    "    for i in range (0,n_rec):\n",
    "        soe+=(time_diff[i]-s_x*rec_loc[i,0]-s_y*rec_loc[i,1])**2\n",
    "    return soe    "
   ]
  },
  {
   "cell_type": "code",
   "execution_count": 7,
   "metadata": {},
   "outputs": [],
   "source": [
    "#function to estimate slowness by iterating over backazimuth\n",
    "\n",
    "def estimate_slowness(v,n_rec,rec_loc_dummy,time):\n",
    "    ''' returns estimated backazimuth and final error for the estimated backazimuth\\\n",
    "    input v: apparent horizontal velocity\\\n",
    "    inputn_rec: number of receivers\\\n",
    "    input rec_loc: 2-D array for receiver locations in form [(x_1,y_2)]\\\n",
    "    input time: 1-D array for time recordings which is then converted to time difference [(t_i)]'''\n",
    "    phi_estimated=0\n",
    "    error=10000\n",
    "    time_diff=time-time[0]\n",
    "    rec_loc=rec_loc_dummy.copy()# to call by value\n",
    "    \n",
    "   # print('\\noriginal loc = ' ,rec_loc)\n",
    "    rec_loc[:,0]=np.array(rec_loc[:,0])-(rec_loc[0][0])\n",
    "    \n",
    "    #print('\\nchange in x of rec_loc = ', rec_loc)\n",
    "    rec_loc[:,1]=np.array(rec_loc[:,1])-(rec_loc[0][1])\n",
    "    \n",
    "    #print('\\nfinal rec_loc = ', rec_loc)\n",
    "    phi_range = np.linspace(0,2*np.pi,200000)\n",
    "    for phi in phi_range :\n",
    "            soe=sum_of_errors(-np.sin(phi)/v,-np.cos(phi)/v,n_rec,rec_loc,time_diff)  \n",
    "            #print(s_x_temp,s_y_temp)\n",
    "            #print(soe)\n",
    "            #print(s_x_temp,s_y_temp\n",
    "            if ( error>soe):\n",
    "                error =soe\n",
    "                phi_estimated=phi\n",
    "    if (sum_of_errors(-np.sin(np.pi-phi_estimated)/v,-np.cos(np.pi-phi_estimated)/v,n_rec,rec_loc,time_diff)<error) :\n",
    "        error=sum_of_errors(-np.sin(np.pi-phi_estimated)/v,-np.cos(np.pi-phi_estimated)/v,n_rec,rec_loc,time_diff)\n",
    "        phi_estimated=np.pi-phi_estimated\n",
    "    distance=time[0]*v \n",
    "    src_pos_estimate=(rec_loc[0][0]+distance*np.sin(phi_estimated),rec_loc[0][1]+distance*np.cos(phi_estimated))\n",
    "    return (phi_estimated,error,src_pos_estimate)  "
   ]
  },
  {
   "cell_type": "markdown",
   "metadata": {
    "collapsed": true
   },
   "source": [
    "    src_estimates=np.zeros(shape=(no_of_subsets,2))\n",
    "    phi_estimates=np.zeros(shape=(no_of_subsets,))\n",
    "    \n",
    "    rec_pos_i=np.zeros(shape=(n_grp,2))\n",
    "    for i in range(0,n_rec,n_grp):\n",
    "        phi_estimate_i,error=estimate_slowness(v_k,n_grp,rec_pos_mes[i:i+n_grp],\\\n",
    "                                                 t_diff[int(n_rec/4*i):int(n_rec/4*i+4)+1])\n",
    "        #ensure the first receiver in each subset is at the origin\n",
    "        \n",
    "        d_i=v_i*t_Rec_real[i]\n",
    "        src_estimates[i]=(x_i+d_i*np.sin(phi_estimates[i]),y_i+d_i*np.cos(phi_estimates[i]))\n",
    "        for k in (0,1,2,3):\n",
    "            error_in_concurrency+=np.sqrt((src_estimates[k%4][0]-src_estimates[(k+1)%4][0])**2 + \\\n",
    "                                          (src_estimates[k%4][1]-src_estimates[(k+1)%4][1])**2)\n",
    "print(phi_estimates)        \n",
    "    "
   ]
  },
  {
   "cell_type": "code",
   "execution_count": null,
   "metadata": {},
   "outputs": [],
   "source": []
  },
  {
   "cell_type": "code",
   "execution_count": 8,
   "metadata": {},
   "outputs": [
    {
     "name": "stdout",
     "output_type": "stream",
     "text": [
      "actual angle:  0.9104112690699945\n",
      "percentage error in distance:  13.948553194950891\n",
      "error in distance:  74.3563865805446\n",
      "(363.4158101353898, 279.9581749615099)\n",
      "(421, 327)\n"
     ]
    }
   ],
   "source": [
    "\n",
    "phi_actual=np.arctan2(src[0],src[1]) #y first for arctan2,rotate axis (N is x now), so input x first\n",
    "if (phi_actual<0):\n",
    "    phi_actual+=2*np.pi\n",
    "              \n",
    "\n",
    "print(\"actual angle: \", phi_actual)\n",
    "phi_estimated,final_error,est_src_pos = estimate_slowness(v,n_rec,rec_pos_mes,t_Rec_real)\n",
    "#print(\"phi_estimated :\",phi_estimated,\"\\nfinal_error: \", final_error)\n",
    "\n",
    "#print(\"pi- phi_estimated :\",np.pi-phi_estimated)\n",
    "#print(\" difference in backazimuth (diff of pi): \",np.pi-phi_estimated-phi_actual,\" percentage error : \",((np.pi-phi_estimated)/phi_actual-1)*100,\"%\"  )\n",
    "\n",
    "#print(\"difference in backazimuth: \",phi_estimated-phi_actual,\"\\npercentage error in backazimuth: \",((phi_estimated)/phi_actual-1)*100,\"%\"  )\n",
    "#print(\"diff in location: \" ,  np.sqrt(((d*np.sin(phi_estimated))**2+(src[1]-d*np.cos(phi_estimated))**2))\n",
    "#print(\"diff in location (diff of pi): \" ,  np.sqrt((src[0]-d*np.sin(np.pi-phi_estimated))**2+(src[1]-d*np.cos(np.pi-phi_estimated))**2))\n",
    "\n",
    "src_estimated=est_src_pos\n",
    "percent_err_dist=np.sqrt((src[0]-src_estimated[0])**2+(src[1]-src_estimated[1])**2)/ np.sqrt(src[0]**2+src[1]**2) *100\n",
    "print(\"percentage error in distance: \",percent_err_dist)\n",
    "print(\"error in distance: \",(np.sqrt((src[0]-src_estimated[0])**2+(src[1]-src_estimated[1])**2)))\n",
    "\n",
    "print(src_estimated)\n",
    "print(src)"
   ]
  },
  {
   "cell_type": "code",
   "execution_count": null,
   "metadata": {},
   "outputs": [],
   "source": []
  },
  {
   "cell_type": "code",
   "execution_count": 9,
   "metadata": {},
   "outputs": [],
   "source": [
    "#sum_of_errors(-np.sin(phi_actual)/v,-np.cos(phi_actual)/v,n_rec,rec_pos_mes,t_diff)"
   ]
  },
  {
   "cell_type": "code",
   "execution_count": 10,
   "metadata": {},
   "outputs": [],
   "source": [
    "#sum_of_errors(-np.sin(np.pi-phi_estimated)/v,-np.cos(np.pi-phi_actual)/v,n_rec,rec_pos_mes,t_diff)"
   ]
  },
  {
   "cell_type": "code",
   "execution_count": 11,
   "metadata": {},
   "outputs": [],
   "source": [
    "t_diff=t_Rec_real-t_Rec_real[0]\n",
    "x=np.linspace(0,2*np.pi,2000)\n",
    "y=np.zeros(shape=(2000,))\n",
    "for i in range(0,2000):\n",
    "    y[i]=sum_of_errors(-sin(x[i])/v,-cos(x[i])/v,n_rec,rec_pos_mes,t_diff)"
   ]
  },
  {
   "cell_type": "code",
   "execution_count": 12,
   "metadata": {},
   "outputs": [
    {
     "data": {
      "text/plain": [
       "Text(0, 0.5, 'error in arbitary units')"
      ]
     },
     "execution_count": 12,
     "metadata": {},
     "output_type": "execute_result"
    },
    {
     "data": {
      "image/png": "[encoded data removed]",
      "text/plain": [
       "<Figure size 432x288 with 1 Axes>"
      ]
     },
     "metadata": {
      "needs_background": "light"
     },
     "output_type": "display_data"
    }
   ],
   "source": [
    "plt.plot(x,y)\n",
    "plt.xlabel(\"backazimuthal angle in radian\")\n",
    "plt.ylabel(\"error in arbitary units\")\n"
   ]
  },
  {
   "cell_type": "code",
   "execution_count": 13,
   "metadata": {},
   "outputs": [
    {
     "data": {
      "image/png": "[encoded data removed]",
      "text/plain": [
       "<Figure size 576x432 with 1 Axes>"
      ]
     },
     "metadata": {
      "needs_background": "light"
     },
     "output_type": "display_data"
    }
   ],
   "source": [
    "x,y =np.mgrid[-500:500:1000j,-500:500:1000j]  # a 2D grid for defining domain and evaluation of source position\n",
    "\n",
    "rec_pos_modified = np.zeros_like(rec_pos_act)\n",
    "#rec_pos_modified[:] = rec_pos_act[:]  # Can modify later if required\n",
    "\n",
    "plt.figure(figsize=(8,6))\n",
    "plt.plot(rec_pos_mes[:,0],rec_pos_mes[:,1],'b.',label='Receivers')\n",
    "plt.plot(src[0],src[1],'r^',label='Source position Actual')\n",
    "#d=v*t_Rec_real[0]\n",
    "#plt.plot(rec_pos_act+d*np.sin(phi_estimated),d*np.cos(phi_estimated),'g^',label='Source position estimated')\n",
    "plt.plot(src_estimated[0],src_estimated[1],'g^',label='Source position estimated')\n",
    "#plt.plot(d*np.sin(np.pi-phi_estimated),d*np.cos(np.pi-phi_estimated),'g^',label='Source position estimated')\n",
    "#plt.plot(d*np.sin(np.pi/2-phi_estimated),d*np.cos(np.pi/2-phi_estimated),'g^',label='Source position estimated')\n",
    "plt.plot()\n",
    "plt.legend()\n",
    "#plt.xlim(-500,500)\n",
    "#plt.ylim(-500,500)\n",
    "plt.xlabel('X(m)')\n",
    "plt.ylabel('Y(m)')\n",
    "plt.axis('equal')\n",
    "\n",
    "plt.title('Error contour for receivers with error in both time of arrival and known position')\n",
    "plt.show()\n",
    "\n",
    "     "
   ]
  },
  {
   "cell_type": "code",
   "execution_count": null,
   "metadata": {},
   "outputs": [],
   "source": []
  },
  {
   "cell_type": "markdown",
   "metadata": {},
   "source": [
    "Cause of the error is because the estimated position assumes that first receiver (at index 0) is at origin ,\\\\\n",
    "whereas this is not the case for circular configuration"
   ]
  },
  {
   "cell_type": "markdown",
   "metadata": {},
   "source": [
    "Configurations tried so far:\n",
    "linear,\n",
    "gaussian(negative results),\n",
    "circular"
   ]
  },
  {
   "cell_type": "markdown",
   "metadata": {},
   "source": [
    "Noise introduced in position has standard deviation 5m; and that in time has standard deviation 5/v"
   ]
  },
  {
   "cell_type": "code",
   "execution_count": 14,
   "metadata": {},
   "outputs": [],
   "source": [
    "def error_in_concurrency(v,n_rec,no_of_groups,n_in_this_grp,rec_loc,time):\n",
    "    \n",
    "    estimates_of_src=np.zeros(shape=(no_of_groups,2))\n",
    "    #iteration for group\n",
    "    for i in range(0,n_rec,n_in_this_grp):\n",
    "        #print(i,i+n_in_this_grp)\n",
    "        new_rec_loc=np.zeros(shape=(n_in_this_grp,2))\n",
    "        for k in range(0,n_in_this_grp):\n",
    "            new_rec_loc[k][0]=rec_loc[k+i][0]#-rec_loc[i][0] taken care in estimate-slowness()\n",
    "            new_rec_loc[k][1]=rec_loc[k+i][1]#-rec_loc[i][1]\n",
    "        phi,error,src_estimate_grp_i=estimate_slowness(v,n_in_this_grp,new_rec_loc,time[i:i+n_in_this_grp])\n",
    "      \n",
    "        # d_i=v*time[i]\n",
    "        #print(d_i)\n",
    "        #print(new_rec_loc)\n",
    "        #print(\"phi: \", phi)\n",
    "        #print(\"d_i*np.sin(phi): \",d_i*np.sin(phi),\"d_i*np.cos(phi): \",d_i*np.cos(phi))\n",
    "        #print(\"rec_loc[i][0]+d_i*np.sin(phi): \",rec_loc[i][0]+d_i*np.sin(phi),\"rec_loc[i][1]+d_i*np.cos(phi): \",rec_loc[i][1]+d_i*np.cos(phi))\n",
    "        estimates_of_src[int(i/n_in_this_grp)]=src_estimate_grp_i#(rec_loc[i][0]+d_i*np.sin(phi),rec_loc[i][1]+d_i*np.cos(phi))\n",
    "        \n",
    "    error_in_conc=0\n",
    "        \n",
    "    for j in range(0,no_of_groups):   \n",
    "            error_in_conc+=np.sqrt((estimates_of_src[int(j)%int(no_of_groups)][0]-estimates_of_src[int(j+1)%int(no_of_groups)][0])**2\\\n",
    "    \n",
    "                                + (estimates_of_src[int(j)%int(no_of_groups)][1]-estimates_of_src[int(j+1)%int(no_of_groups)][1])**2)\n",
    "            \n",
    "\n",
    "    return error_in_conc ,estimates_of_src      \n",
    "    "
   ]
  },
  {
   "cell_type": "code",
   "execution_count": 15,
   "metadata": {
    "scrolled": false
   },
   "outputs": [],
   "source": [
    "distance_error,estimates=error_in_concurrency(v,n_rec,no_of_subsets,n_grp,rec_pos_mes,t_Rec_real)\n"
   ]
  },
  {
   "cell_type": "code",
   "execution_count": 16,
   "metadata": {},
   "outputs": [
    {
     "name": "stdout",
     "output_type": "stream",
     "text": [
      "[[366.00343572 276.56665711]\n",
      " [464.57651873 321.94869899]\n",
      " [440.15199549 372.75269894]\n",
      " [413.73252687 263.38092894]\n",
      " [445.68911485 450.86825478]] 659.2500173434491\n",
      "(363.4158101353898, 279.9581749615099)\n"
     ]
    }
   ],
   "source": [
    "print(estimates,distance_error)\n",
    "estimates[1]\n",
    "print(src_estimated)\n"
   ]
  },
  {
   "cell_type": "code",
   "execution_count": null,
   "metadata": {},
   "outputs": [],
   "source": []
  },
  {
   "cell_type": "code",
   "execution_count": 17,
   "metadata": {},
   "outputs": [
    {
     "data": {
      "image/png": "[encoded data removed]",
      "text/plain": [
       "<Figure size 576x432 with 1 Axes>"
      ]
     },
     "metadata": {
      "needs_background": "light"
     },
     "output_type": "display_data"
    },
    {
     "data": {
      "image/png": "[encoded data removed]",
      "text/plain": [
       "<Figure size 432x288 with 1 Axes>"
      ]
     },
     "metadata": {
      "needs_background": "light"
     },
     "output_type": "display_data"
    }
   ],
   "source": [
    " x,y =np.mgrid[-500:500:1000j,-500:500:1000j]  # a 2D grid for defining domain and evaluation of source position\n",
    "\n",
    "\n",
    "\n",
    "plt.figure(figsize=(8,6))\n",
    "\n",
    "\n",
    "plt.plot(rec_pos_mes[:,0],rec_pos_mes[:,1],'b.',label='Receivers')\n",
    "#plot2.plot(rec_pos_mes[:,0],rec_pos_mes[:,1],'b.',label='Receivers')\n",
    "\n",
    "#d=v*t_Rec_real[n_grp]\n",
    "plt.plot(estimates[0][0],estimates[0][1],'g*',label='Source positions estimated by subgroups')\n",
    "\n",
    "for estimate_positions in estimates[:-1]:\n",
    "    plt.plot(estimate_positions[0],estimate_positions[1],'g*')#label='Source positions estimated by subgroups')\n",
    "#plt.plot(estimates[0][0],estimates[0][1],'g*',label='Source estimated by even indices')\n",
    "#plt.plot(estimates[1][0],estimates[1][1],'k*',label='Source estimated by odd indices')\n",
    "#plt.plot(src_estimated[0],src_estimated[1],'g^',label='Source estimated by all receivers')\n",
    "plt.plot(src_estimated[0],src_estimated[1],'k^',label='Source position estimated by all receivers')\n",
    "plt.plot(src[0],src[1],'r^',label='Source position Actual')\n",
    "\n",
    "#plt.plot(d*np.sin(np.pi/2-phi_estimated),d*np.cos(np.pi/2-phi_estimated),'g^',label='Source position estimated')\n",
    "plt.plot()\n",
    "plt.xlabel('X (m)')\n",
    "plt.ylabel( 'Y (m)')\n",
    "\n",
    "plt.legend()\n",
    "#plt.xlim(0,1)\n",
    "#plt.ylim(3000,4000)\n",
    "#plt.xlabel('X(m)')\n",
    "#plt.ylabel('Y(m)')\n",
    "plt.axis('equal')\n",
    "plt.text(-300,200,f'velocity of propagation assumed = 200 m/s \\nerror in localization={percent_err_dist} % ')\n",
    "\n",
    "plt.title('Plane wave fitting with error in time recordings')\n",
    "plt.show()\n",
    "\n",
    "#zoome in view\n",
    "#plt.plot(rec_pos_mes[:,0],rec_pos_mes[:,1],'b.',label='Receivers')\n",
    "plt.plot(estimates[0][0],estimates[0][1],'g*',label='Source positions estimated by subgroups')\n",
    "for estimate_positions in estimates[:-1]:\n",
    "    plt.plot(estimate_positions[0],estimate_positions[1],'g*',)#label='Source positions estimated by subgroups')\n",
    "plt.plot(src_estimated[0],src_estimated[1],'k^',label='Source position estimated by all receivers')\n",
    "plt.plot(src[0],src[1],'r^',label='Source position Actual')     \n",
    "plt.title('A closer look at the estimated positions')\n",
    "plt.xlabel('X (m) ')\n",
    "plt.ylabel('Y (m)')\n",
    "plt.legend(bbox_to_anchor = (1.05, 0.5))\n",
    "plt.show()"
   ]
  },
  {
   "cell_type": "code",
   "execution_count": null,
   "metadata": {},
   "outputs": [],
   "source": []
  },
  {
   "cell_type": "code",
   "execution_count": 18,
   "metadata": {},
   "outputs": [
    {
     "ename": "NameError",
     "evalue": "name 'phi' is not defined",
     "output_type": "error",
     "traceback": [
      "\u001b[1;31m---------------------------------------------------------------------------\u001b[0m",
      "\u001b[1;31mNameError\u001b[0m                                 Traceback (most recent call last)",
      "\u001b[1;32m~\\AppData\\Local\\Temp/ipykernel_18980/2066863675.py\u001b[0m in \u001b[0;36m<module>\u001b[1;34m\u001b[0m\n\u001b[1;32m----> 1\u001b[1;33m \u001b[0msum_of_errors\u001b[0m\u001b[1;33m(\u001b[0m\u001b[1;33m-\u001b[0m\u001b[0mnp\u001b[0m\u001b[1;33m.\u001b[0m\u001b[0msin\u001b[0m\u001b[1;33m(\u001b[0m\u001b[1;36m2\u001b[0m\u001b[1;33m*\u001b[0m\u001b[0mnp\u001b[0m\u001b[1;33m.\u001b[0m\u001b[0mpi\u001b[0m\u001b[1;33m-\u001b[0m\u001b[0mphi\u001b[0m\u001b[1;33m)\u001b[0m\u001b[1;33m/\u001b[0m\u001b[0mv\u001b[0m\u001b[1;33m,\u001b[0m\u001b[1;33m-\u001b[0m\u001b[0mnp\u001b[0m\u001b[1;33m.\u001b[0m\u001b[0mcos\u001b[0m\u001b[1;33m(\u001b[0m\u001b[1;36m2\u001b[0m\u001b[1;33m*\u001b[0m\u001b[0mnp\u001b[0m\u001b[1;33m.\u001b[0m\u001b[0mpi\u001b[0m\u001b[1;33m-\u001b[0m\u001b[0mphi\u001b[0m\u001b[1;33m)\u001b[0m\u001b[1;33m/\u001b[0m\u001b[0mv\u001b[0m\u001b[1;33m,\u001b[0m\u001b[0mn_grp\u001b[0m\u001b[1;33m,\u001b[0m\u001b[0mnew_rec_loc\u001b[0m\u001b[1;33m,\u001b[0m\u001b[0mt_diff\u001b[0m\u001b[1;33m[\u001b[0m\u001b[0mn_grp\u001b[0m\u001b[1;33m:\u001b[0m\u001b[1;36m2\u001b[0m\u001b[1;33m*\u001b[0m\u001b[0mn_grp\u001b[0m\u001b[1;33m]\u001b[0m\u001b[1;33m)\u001b[0m\u001b[1;33m\u001b[0m\u001b[1;33m\u001b[0m\u001b[0m\n\u001b[0m",
      "\u001b[1;31mNameError\u001b[0m: name 'phi' is not defined"
     ]
    }
   ],
   "source": [
    " sum_of_errors(-np.sin(2*np.pi-phi)/v,-np.cos(2*np.pi-phi)/v,n_grp,new_rec_loc,t_diff[n_grp:2*n_grp])  "
   ]
  },
  {
   "cell_type": "code",
   "execution_count": null,
   "metadata": {},
   "outputs": [],
   "source": [
    "5.79425679785886-2*np.pi"
   ]
  },
  {
   "cell_type": "code",
   "execution_count": null,
   "metadata": {},
   "outputs": [],
   "source": []
  }
 ],
 "metadata": {
  "kernelspec": {
   "display_name": "Python 3 (ipykernel)",
   "language": "python",
   "name": "python3"
  },
  "language_info": {
   "codemirror_mode": {
    "name": "ipython",
    "version": 3
   },
   "file_extension": ".py",
   "mimetype": "text/x-python",
   "name": "python",
   "nbconvert_exporter": "python",
   "pygments_lexer": "ipython3",
   "version": "3.9.5"
  }
 },
 "nbformat": 4,
 "nbformat_minor": 2
}
